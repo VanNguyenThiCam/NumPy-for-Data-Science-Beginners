{
  "nbformat": 4,
  "nbformat_minor": 0,
  "metadata": {
    "colab": {
      "name": "Một số kĩ thuật trên mảng/ ma trận.ipynb",
      "provenance": [],
      "machine_shape": "hm",
      "include_colab_link": true
    },
    "kernelspec": {
      "name": "python3",
      "display_name": "Python 3"
    },
    "language_info": {
      "name": "python"
    },
    "accelerator": "GPU"
  },
  "cells": [
    {
      "cell_type": "markdown",
      "metadata": {
        "id": "view-in-github",
        "colab_type": "text"
      },
      "source": [
        "<a href=\"https://colab.research.google.com/github/VanNguyenThiCam/NumPy-for-Data-Science-Beginners/blob/main/M%E1%BB%99t_s%E1%BB%91_k%C4%A9_thu%E1%BA%ADt_tr%C3%AAn_m%E1%BA%A3ng_ma_tr%E1%BA%ADn.ipynb\" target=\"_parent\"><img src=\"https://colab.research.google.com/assets/colab-badge.svg\" alt=\"Open In Colab\"/></a>"
      ]
    },
    {
      "cell_type": "markdown",
      "source": [
        "***Một số kĩ thuật trên mảng/ ma trận***\n",
        "\n",
        "1.   index & slice - Chỉ số & cắt lát\n",
        "2.   Iteration\n",
        "3.   Array type - Loại mảng/ ma trận\n",
        "4.   Zero ones - Tạo ma trận toàn số 1\n",
        "5.   String\n"
      ],
      "metadata": {
        "id": "05H8N7zSeOhU"
      }
    },
    {
      "cell_type": "markdown",
      "source": [
        "name[<font color='green'>start</font>:<font color='blue'>stop</font>:<font color='red'>step</font>]\n",
        "\n",
        "- index\n",
        "- slice"
      ],
      "metadata": {
        "id": "stGXSBUugVFn"
      }
    },
    {
      "cell_type": "code",
      "execution_count": 1,
      "metadata": {
        "id": "lR0ng9UyeAnB",
        "colab": {
          "base_uri": "https://localhost:8080/"
        },
        "outputId": "78d1fe62-6393-4030-e11f-896734a5f301"
      },
      "outputs": [
        {
          "output_type": "stream",
          "name": "stdout",
          "text": [
            "1\n",
            "2\n"
          ]
        }
      ],
      "source": [
        "import numpy as np\n",
        "\n",
        "arr = np.array([1,2,3,4,5])\n",
        "\n",
        "print(arr[0]) # xuất ra giá trị ở vị trí 0 \n",
        "print(arr[1])"
      ]
    },
    {
      "cell_type": "code",
      "source": [
        "arr = np.array([[1,2,3,4],[5,6,7,8]])\n",
        "print(arr)\n",
        "print(arr.shape)\n",
        "print(arr[0,1])\n",
        "\n",
        "print(arr[1,3]) #hàng thứ nhất mang chỉ số 0, cột thứ nhất mang chỉ số 0"
      ],
      "metadata": {
        "id": "6mh4E9q0hVor",
        "colab": {
          "base_uri": "https://localhost:8080/"
        },
        "outputId": "cb3a857e-29cc-48f8-c022-9ccdcb534234"
      },
      "execution_count": 2,
      "outputs": [
        {
          "output_type": "stream",
          "name": "stdout",
          "text": [
            "[[1 2 3 4]\n",
            " [5 6 7 8]]\n",
            "(2, 4)\n",
            "2\n",
            "8\n"
          ]
        }
      ]
    },
    {
      "cell_type": "markdown",
      "source": [
        "***Ví dụ nâng cao***"
      ],
      "metadata": {
        "id": "t8YZS0c5nFIO"
      }
    },
    {
      "cell_type": "code",
      "source": [
        "arr = np.array([[[1,2,3],[4,6,7]],[[8,9,0],[11,12,13]]])\n",
        "print(arr)\n",
        "print(arr.shape) #tensor có 2 chiều, chiều thứ 1 có chỉ số(index) là 0; ở cái chiều thứ 2 chọn vị trí có chỉ số 1,1.\n",
        "print(arr[1,1,1])"
      ],
      "metadata": {
        "id": "PgtDwDCEiWbr",
        "colab": {
          "base_uri": "https://localhost:8080/"
        },
        "outputId": "87449eda-76d3-4677-e21e-f8ec8ea51673"
      },
      "execution_count": 3,
      "outputs": [
        {
          "output_type": "stream",
          "name": "stdout",
          "text": [
            "[[[ 1  2  3]\n",
            "  [ 4  6  7]]\n",
            "\n",
            " [[ 8  9  0]\n",
            "  [11 12 13]]]\n",
            "(2, 2, 3)\n",
            "12\n"
          ]
        }
      ]
    },
    {
      "cell_type": "code",
      "source": [
        "arr = np.array([[1,2,3,4,5],[6,7,8,9,0]])\n",
        "print(arr)\n",
        "print(arr[1,-1]) #đếm theo chiều thuận thì index bắt đầu là 0. Chiều ngược lại index bắt đầu là -1"
      ],
      "metadata": {
        "colab": {
          "base_uri": "https://localhost:8080/"
        },
        "id": "wyDE-12ykznl",
        "outputId": "ca9fe49f-b7a2-43bc-c9c8-5f47dcc93af2"
      },
      "execution_count": 4,
      "outputs": [
        {
          "output_type": "stream",
          "name": "stdout",
          "text": [
            "[[1 2 3 4 5]\n",
            " [6 7 8 9 0]]\n",
            "0\n"
          ]
        }
      ]
    },
    {
      "cell_type": "markdown",
      "source": [
        "***Slice***"
      ],
      "metadata": {
        "id": "pDwqdl19noy4"
      }
    },
    {
      "cell_type": "code",
      "source": [
        "arr = np.array([1,2,3,4,5,6,7,7,8])\n",
        "arr[3:7] #cắt từ vị trí thứ 3 đến thứ 7.\n"
      ],
      "metadata": {
        "colab": {
          "base_uri": "https://localhost:8080/"
        },
        "id": "gg3KgkaenYF1",
        "outputId": "5734a463-205e-4640-9af9-81bc62eb1c18"
      },
      "execution_count": 5,
      "outputs": [
        {
          "output_type": "execute_result",
          "data": {
            "text/plain": [
              "array([4, 5, 6, 7])"
            ]
          },
          "metadata": {},
          "execution_count": 5
        }
      ]
    },
    {
      "cell_type": "code",
      "source": [
        "arr[4:] #từ chỉ số thứ 4 đến cuối\n"
      ],
      "metadata": {
        "colab": {
          "base_uri": "https://localhost:8080/"
        },
        "id": "Tw2sN-YHn0TK",
        "outputId": "e1a513b6-85ff-4e39-e31f-5d1f43bd8e08"
      },
      "execution_count": 6,
      "outputs": [
        {
          "output_type": "execute_result",
          "data": {
            "text/plain": [
              "array([5, 6, 7, 7, 8])"
            ]
          },
          "metadata": {},
          "execution_count": 6
        }
      ]
    },
    {
      "cell_type": "code",
      "source": [
        "arr[:6] # từ chỉ số ban đầu là 0 và kết thúc tại chỉ số thứ 6"
      ],
      "metadata": {
        "colab": {
          "base_uri": "https://localhost:8080/"
        },
        "id": "UnpFJKnDpYqe",
        "outputId": "50757e29-2ada-4b5a-c84e-081f25976e66"
      },
      "execution_count": 7,
      "outputs": [
        {
          "output_type": "execute_result",
          "data": {
            "text/plain": [
              "array([1, 2, 3, 4, 5, 6])"
            ]
          },
          "metadata": {},
          "execution_count": 7
        }
      ]
    },
    {
      "cell_type": "code",
      "source": [
        "arr = np.array([[1,2,3,4,5],[6,7,8,9,0]])\n",
        "print(arr)\n",
        "\n",
        "arr[0,:] #\n"
      ],
      "metadata": {
        "colab": {
          "base_uri": "https://localhost:8080/"
        },
        "id": "NpTeYlB1pZKs",
        "outputId": "09e016a7-3dca-4c3d-ae9e-b0594a644b68"
      },
      "execution_count": 14,
      "outputs": [
        {
          "output_type": "stream",
          "name": "stdout",
          "text": [
            "[[1 2 3 4 5]\n",
            " [6 7 8 9 0]]\n"
          ]
        },
        {
          "output_type": "execute_result",
          "data": {
            "text/plain": [
              "array([1, 2, 3, 4, 5])"
            ]
          },
          "metadata": {},
          "execution_count": 14
        }
      ]
    },
    {
      "cell_type": "code",
      "source": [
        "arr[0,1:3] #chỉ số hàng 0, chỉ số cột bắt đầu từ index 1 và kết thúc trước index 3"
      ],
      "metadata": {
        "id": "KF9HJqrsj4Sn",
        "outputId": "e4a31980-aebd-4132-c7b2-dfb488b94714",
        "colab": {
          "base_uri": "https://localhost:8080/"
        }
      },
      "execution_count": 15,
      "outputs": [
        {
          "output_type": "execute_result",
          "data": {
            "text/plain": [
              "array([2, 3])"
            ]
          },
          "metadata": {},
          "execution_count": 15
        }
      ]
    },
    {
      "cell_type": "code",
      "source": [
        "arr[:,4] # index theo cột "
      ],
      "metadata": {
        "colab": {
          "base_uri": "https://localhost:8080/"
        },
        "id": "blMV5r9NrPwX",
        "outputId": "e7b19586-191e-444f-fb07-a9eb84aa2ba7"
      },
      "execution_count": 17,
      "outputs": [
        {
          "output_type": "execute_result",
          "data": {
            "text/plain": [
              "array([5, 0])"
            ]
          },
          "metadata": {},
          "execution_count": 17
        }
      ]
    },
    {
      "cell_type": "code",
      "source": [
        "arr = np.array([[[1,2,3],[4,5,6]],[[7,8,9],[0,11,12]]])\n",
        "print(arr)\n",
        "arr[0,1,2] #lớp chỉ số 0, hàng chỉ số 1, cột chỉ số 2"
      ],
      "metadata": {
        "id": "zAuR4i1IrTtR",
        "colab": {
          "base_uri": "https://localhost:8080/"
        },
        "outputId": "15adb8b2-0b98-48cb-9c32-18b5e3b19dd0"
      },
      "execution_count": 24,
      "outputs": [
        {
          "output_type": "stream",
          "name": "stdout",
          "text": [
            "[[[ 1  2  3]\n",
            "  [ 4  5  6]]\n",
            "\n",
            " [[ 7  8  9]\n",
            "  [ 0 11 12]]]\n"
          ]
        },
        {
          "output_type": "execute_result",
          "data": {
            "text/plain": [
              "6"
            ]
          },
          "metadata": {},
          "execution_count": 24
        }
      ]
    },
    {
      "cell_type": "code",
      "source": [
        "arr[:,1,:] #bất chấp lớp, hàng chỉ số 1, bất chấp cột"
      ],
      "metadata": {
        "colab": {
          "base_uri": "https://localhost:8080/"
        },
        "id": "14vA1MVAhdqC",
        "outputId": "deb51ee0-327a-4a58-d60a-f0459f2d23dd"
      },
      "execution_count": 25,
      "outputs": [
        {
          "output_type": "execute_result",
          "data": {
            "text/plain": [
              "array([[ 4,  5,  6],\n",
              "       [ 0, 11, 12]])"
            ]
          },
          "metadata": {},
          "execution_count": 25
        }
      ]
    },
    {
      "cell_type": "code",
      "source": [
        "arr = np.array([[1,2,3,4,5,6,7,8],[9,0,11,12,13,14,15,16]])\n",
        "print(arr)\n",
        "arr[0,1:6:2] #lấy chỉ số hàng 0, bắt đầu từ cột có chỉ số 1 kết thúc chỉ số 6 và cách 2 bước nhảy"
      ],
      "metadata": {
        "id": "hu5deJn6hjvx",
        "colab": {
          "base_uri": "https://localhost:8080/"
        },
        "outputId": "056375e7-fcda-4eb2-ec55-20ad3c0b79a5"
      },
      "execution_count": 18,
      "outputs": [
        {
          "output_type": "stream",
          "name": "stdout",
          "text": [
            "[[ 1  2  3  4  5  6  7  8]\n",
            " [ 9  0 11 12 13 14 15 16]]\n"
          ]
        },
        {
          "output_type": "execute_result",
          "data": {
            "text/plain": [
              "array([2, 4, 6])"
            ]
          },
          "metadata": {},
          "execution_count": 18
        }
      ]
    },
    {
      "cell_type": "markdown",
      "source": [
        "***Thay thế một giá trị bất kì***"
      ],
      "metadata": {
        "id": "gHjH_VfRqftL"
      }
    },
    {
      "cell_type": "code",
      "source": [
        "arr = np.array([[1,2,3,4,5,6,7,8],[9,0,11,12,13,14,15,16]])\n",
        "print(arr)\n",
        "arr[0,2] = 2000\n",
        "print(arr)"
      ],
      "metadata": {
        "colab": {
          "base_uri": "https://localhost:8080/"
        },
        "id": "LxooWkJeqBfz",
        "outputId": "b05bdb7b-69fc-47ed-f457-cc3a0026e4d3"
      },
      "execution_count": 19,
      "outputs": [
        {
          "output_type": "stream",
          "name": "stdout",
          "text": [
            "[[ 1  2  3  4  5  6  7  8]\n",
            " [ 9  0 11 12 13 14 15 16]]\n",
            "[[   1    2 2000    4    5    6    7    8]\n",
            " [   9    0   11   12   13   14   15   16]]\n"
          ]
        }
      ]
    },
    {
      "cell_type": "code",
      "source": [
        "arr = np.array([[1,2,3,4,5,6,7,8],[9,0,11,12,13,14,15,16]])\n",
        "print(arr)\n",
        "arr[0,1:4] = 2000\n",
        "print(arr)"
      ],
      "metadata": {
        "colab": {
          "base_uri": "https://localhost:8080/"
        },
        "id": "AhNB81YKqpU8",
        "outputId": "054df824-7b63-4b30-f383-7b4b4a249dc0"
      },
      "execution_count": 20,
      "outputs": [
        {
          "output_type": "stream",
          "name": "stdout",
          "text": [
            "[[ 1  2  3  4  5  6  7  8]\n",
            " [ 9  0 11 12 13 14 15 16]]\n",
            "[[   1 2000 2000 2000    5    6    7    8]\n",
            " [   9    0   11   12   13   14   15   16]]\n"
          ]
        }
      ]
    },
    {
      "cell_type": "code",
      "source": [
        "arr = np.array([[1,2,3,4,5,6,7,8],[9,0,11,12,13,14,15,16]])\n",
        "print(arr)\n",
        "arr[:,2] = [4000, 5000]\n",
        "print(arr)"
      ],
      "metadata": {
        "colab": {
          "base_uri": "https://localhost:8080/"
        },
        "id": "KJTenm_uq2bJ",
        "outputId": "4de31279-b72f-40b1-9b8a-5e36eccab500"
      },
      "execution_count": 21,
      "outputs": [
        {
          "output_type": "stream",
          "name": "stdout",
          "text": [
            "[[ 1  2  3  4  5  6  7  8]\n",
            " [ 9  0 11 12 13 14 15 16]]\n",
            "[[   1    2 4000    4    5    6    7    8]\n",
            " [   9    0 5000   12   13   14   15   16]]\n"
          ]
        }
      ]
    },
    {
      "cell_type": "code",
      "source": [
        "arr = np.array([[1,2,3,4,5,6,7,8],[9,0,11,12,13,14,15,16]])\n",
        "print(arr)\n",
        "arr[1,:] = [40, 50,60,70,80,90,100,110]\n",
        "print(arr)"
      ],
      "metadata": {
        "colab": {
          "base_uri": "https://localhost:8080/"
        },
        "id": "OlaNa8nEr16v",
        "outputId": "4392347b-3fa7-473f-82f0-0489a0742b5b"
      },
      "execution_count": 23,
      "outputs": [
        {
          "output_type": "stream",
          "name": "stdout",
          "text": [
            "[[ 1  2  3  4  5  6  7  8]\n",
            " [ 9  0 11 12 13 14 15 16]]\n",
            "[[  1   2   3   4   5   6   7   8]\n",
            " [ 40  50  60  70  80  90 100 110]]\n"
          ]
        }
      ]
    },
    {
      "cell_type": "markdown",
      "source": [
        "***Rút theo chỉ số ÂM***"
      ],
      "metadata": {
        "id": "RN9zBMHztIk9"
      }
    },
    {
      "cell_type": "code",
      "source": [
        "arr = np.array([1,2,3,4,5,6,7])\n",
        "print(arr)\n",
        "arr[:4]\n",
        "\n"
      ],
      "metadata": {
        "colab": {
          "base_uri": "https://localhost:8080/"
        },
        "id": "h6urZWK3r_L9",
        "outputId": "92aeab51-89e3-47bd-8f8e-cc71c600d0b8"
      },
      "execution_count": 31,
      "outputs": [
        {
          "output_type": "stream",
          "name": "stdout",
          "text": [
            "[1 2 3 4 5 6 7]\n"
          ]
        },
        {
          "output_type": "execute_result",
          "data": {
            "text/plain": [
              "array([1, 2, 3, 4])"
            ]
          },
          "metadata": {},
          "execution_count": 31
        }
      ]
    },
    {
      "cell_type": "code",
      "source": [
        "arr[:-3]"
      ],
      "metadata": {
        "colab": {
          "base_uri": "https://localhost:8080/"
        },
        "id": "n1AkK340tkGJ",
        "outputId": "55fceadc-2b7e-43cf-f208-7b58a23c685f"
      },
      "execution_count": 32,
      "outputs": [
        {
          "output_type": "execute_result",
          "data": {
            "text/plain": [
              "array([1, 2, 3, 4])"
            ]
          },
          "metadata": {},
          "execution_count": 32
        }
      ]
    },
    {
      "cell_type": "code",
      "source": [
        "arr[::2]"
      ],
      "metadata": {
        "colab": {
          "base_uri": "https://localhost:8080/"
        },
        "id": "NDsAHbFruPnT",
        "outputId": "62b0400a-356e-4c4e-cc72-fe784686760e"
      },
      "execution_count": 34,
      "outputs": [
        {
          "output_type": "execute_result",
          "data": {
            "text/plain": [
              "array([1, 3, 5, 7])"
            ]
          },
          "metadata": {},
          "execution_count": 34
        }
      ]
    },
    {
      "cell_type": "code",
      "source": [
        "arr[arr>3]"
      ],
      "metadata": {
        "colab": {
          "base_uri": "https://localhost:8080/"
        },
        "id": "qpo7gTNfugQM",
        "outputId": "37f23926-c46d-4715-b738-6bcc5ad97416"
      },
      "execution_count": 35,
      "outputs": [
        {
          "output_type": "execute_result",
          "data": {
            "text/plain": [
              "array([4, 5, 6, 7])"
            ]
          },
          "metadata": {},
          "execution_count": 35
        }
      ]
    },
    {
      "cell_type": "code",
      "source": [
        "a = np.array([np.nan,0,1,2,3,4,np.nan])"
      ],
      "metadata": {
        "id": "y1RBUcz2u8Hu"
      },
      "execution_count": 36,
      "outputs": []
    },
    {
      "cell_type": "code",
      "source": [
        "print(a)"
      ],
      "metadata": {
        "colab": {
          "base_uri": "https://localhost:8080/"
        },
        "id": "kegteEkNvMD_",
        "outputId": "f68cf202-3b24-4234-95ef-7953dda329ac"
      },
      "execution_count": 37,
      "outputs": [
        {
          "output_type": "stream",
          "name": "stdout",
          "text": [
            "[nan  0.  1.  2.  3.  4. nan]\n"
          ]
        }
      ]
    },
    {
      "cell_type": "code",
      "source": [
        "#mình sẽ áp dụng vào việc xử lý dữ liệu ban đầu, chính là thay thế những vị trí thiếu dữ liệu\n",
        "\n",
        "a[~np.isnan(a)] #bỏ dữ liệu lỗi ra"
      ],
      "metadata": {
        "colab": {
          "base_uri": "https://localhost:8080/"
        },
        "id": "BWPjoxbNvNav",
        "outputId": "993cffc9-5679-4b8b-f1f8-cfae791e4dbb"
      },
      "execution_count": 38,
      "outputs": [
        {
          "output_type": "execute_result",
          "data": {
            "text/plain": [
              "array([0., 1., 2., 3., 4.])"
            ]
          },
          "metadata": {},
          "execution_count": 38
        }
      ]
    },
    {
      "cell_type": "code",
      "source": [
        ""
      ],
      "metadata": {
        "id": "LD8auPYJvw3R"
      },
      "execution_count": null,
      "outputs": []
    }
  ]
}