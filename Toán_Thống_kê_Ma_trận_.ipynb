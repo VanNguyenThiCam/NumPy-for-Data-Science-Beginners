{
  "nbformat": 4,
  "nbformat_minor": 0,
  "metadata": {
    "colab": {
      "name": "Toán_Thống kê_Ma trận .ipynb",
      "provenance": [],
      "collapsed_sections": [],
      "toc_visible": true,
      "authorship_tag": "ABX9TyNn5ChZvhKmRsqhk/3HzPcQ",
      "include_colab_link": true
    },
    "kernelspec": {
      "name": "python3",
      "display_name": "Python 3"
    },
    "language_info": {
      "name": "python"
    },
    "accelerator": "GPU"
  },
  "cells": [
    {
      "cell_type": "markdown",
      "metadata": {
        "id": "view-in-github",
        "colab_type": "text"
      },
      "source": [
        "<a href=\"https://colab.research.google.com/github/VanNguyenThiCam/NumPy-for-Data-Science-Beginners/blob/main/To%C3%A1n_Th%E1%BB%91ng_k%C3%AA_Ma_tr%E1%BA%ADn_.ipynb\" target=\"_parent\"><img src=\"https://colab.research.google.com/assets/colab-badge.svg\" alt=\"Open In Colab\"/></a>"
      ]
    },
    {
      "cell_type": "markdown",
      "source": [
        "# ***Toán thống kê***\n",
        "\n",
        "\n",
        "\n",
        "1.   Mean\n",
        "2.   Median\n",
        "3.   Standard Deviation\n",
        "4.   Variance\n",
        "5.   Average\n",
        "6.   Percentile\n",
        "7.   Peak to Peak"
      ],
      "metadata": {
        "id": "LLbFmhfp-EKJ"
      }
    },
    {
      "cell_type": "code",
      "execution_count": 1,
      "metadata": {
        "colab": {
          "base_uri": "https://localhost:8080/"
        },
        "id": "N7wdPmNMJNus",
        "outputId": "6c418f91-4dd6-4726-8f24-7d4153d87076"
      },
      "outputs": [
        {
          "output_type": "stream",
          "name": "stdout",
          "text": [
            "[[1 2 3]\n",
            " [4 5 6]\n",
            " [7 8 9]]\n"
          ]
        }
      ],
      "source": [
        "import numpy as np\n",
        "\n",
        "a = np.array([[1,2,3],[4,5,6],[7,8,9]])\n",
        "\n",
        "print(a)"
      ]
    },
    {
      "cell_type": "code",
      "source": [
        "np.amin(a,0) #lấy số có giá trị nhỏ nhất theo từng cột --> áp dụng trong môn phương pháp tính "
      ],
      "metadata": {
        "colab": {
          "base_uri": "https://localhost:8080/"
        },
        "id": "RiIuoWHJKXyq",
        "outputId": "8c6ba413-ab18-41fc-f134-5b8bf451518b"
      },
      "execution_count": 2,
      "outputs": [
        {
          "output_type": "execute_result",
          "data": {
            "text/plain": [
              "array([1, 2, 3])"
            ]
          },
          "metadata": {},
          "execution_count": 2
        }
      ]
    },
    {
      "cell_type": "code",
      "source": [
        "np.amin(a,1)"
      ],
      "metadata": {
        "colab": {
          "base_uri": "https://localhost:8080/"
        },
        "id": "O3R0oWOLKqVL",
        "outputId": "aeaba48d-57f2-45eb-b44c-c43533821a6a"
      },
      "execution_count": 3,
      "outputs": [
        {
          "output_type": "execute_result",
          "data": {
            "text/plain": [
              "array([1, 4, 7])"
            ]
          },
          "metadata": {},
          "execution_count": 3
        }
      ]
    },
    {
      "cell_type": "code",
      "source": [
        "np.amax(a,0)# lấy số có giá trị lớn nhất theo từng cột"
      ],
      "metadata": {
        "colab": {
          "base_uri": "https://localhost:8080/"
        },
        "id": "3POAE7CWLEiG",
        "outputId": "9b4da84d-db6e-4195-c785-90fab534006e"
      },
      "execution_count": 4,
      "outputs": [
        {
          "output_type": "execute_result",
          "data": {
            "text/plain": [
              "array([7, 8, 9])"
            ]
          },
          "metadata": {},
          "execution_count": 4
        }
      ]
    },
    {
      "cell_type": "code",
      "source": [
        "np.amax(a,1)"
      ],
      "metadata": {
        "colab": {
          "base_uri": "https://localhost:8080/"
        },
        "id": "oztTlCboLLKE",
        "outputId": "76eb427e-81c3-46ad-877e-c7cc235e8637"
      },
      "execution_count": 5,
      "outputs": [
        {
          "output_type": "execute_result",
          "data": {
            "text/plain": [
              "array([3, 6, 9])"
            ]
          },
          "metadata": {},
          "execution_count": 5
        }
      ]
    },
    {
      "cell_type": "code",
      "source": [
        "np.ptp(a, 0) #tính range theo cột (max-min)"
      ],
      "metadata": {
        "colab": {
          "base_uri": "https://localhost:8080/"
        },
        "id": "e1uKxORILcpS",
        "outputId": "da4329d9-146e-48d7-e766-f973021df632"
      },
      "execution_count": 6,
      "outputs": [
        {
          "output_type": "execute_result",
          "data": {
            "text/plain": [
              "array([6, 6, 6])"
            ]
          },
          "metadata": {},
          "execution_count": 6
        }
      ]
    },
    {
      "cell_type": "markdown",
      "source": [
        "**Nguyên văn chú thích được trích từ numpy.org**\n",
        "\n",
        "numpy.ptp(a, axis=None, out=None, keepdims=<no value>)\n",
        "Range of values (maximum - minimum) along an axis.\n",
        "\n",
        "The name of the function comes from the acronym for ‘peak to peak’."
      ],
      "metadata": {
        "id": "i-nfBoUwTCbJ"
      }
    },
    {
      "cell_type": "code",
      "source": [
        "np.ptp(a,1) #tính range theo cột (max-min)"
      ],
      "metadata": {
        "colab": {
          "base_uri": "https://localhost:8080/"
        },
        "id": "T7il48B0L5zV",
        "outputId": "8e6c4e5a-26a5-4e0d-c2c9-7878ea21e377"
      },
      "execution_count": 7,
      "outputs": [
        {
          "output_type": "execute_result",
          "data": {
            "text/plain": [
              "array([2, 2, 2])"
            ]
          },
          "metadata": {},
          "execution_count": 7
        }
      ]
    },
    {
      "cell_type": "code",
      "source": [
        "np.percentile(a,50,0) "
      ],
      "metadata": {
        "colab": {
          "base_uri": "https://localhost:8080/"
        },
        "id": "ot-h57L9MDO8",
        "outputId": "879eede3-810d-4895-ff13-40cf0e746d1e"
      },
      "execution_count": 8,
      "outputs": [
        {
          "output_type": "execute_result",
          "data": {
            "text/plain": [
              "array([4., 5., 6.])"
            ]
          },
          "metadata": {},
          "execution_count": 8
        }
      ]
    },
    {
      "cell_type": "markdown",
      "source": [
        "***Nguyên văn chú thích được trích từ numpy.org***\n",
        "\n",
        "numpy.percentile(a, q, axis=None, out=None, overwrite_input=False, method='linear', keepdims=False, *, interpolation=None)\n",
        "\n",
        "Compute the q-th percentile of the data along the specified axis.\n",
        "\n",
        "Returns the q-th percentile(s) of the array elements."
      ],
      "metadata": {
        "id": "XX3o7tf0SveM"
      }
    },
    {
      "cell_type": "code",
      "source": [
        "np.percentile(a,75,0)"
      ],
      "metadata": {
        "colab": {
          "base_uri": "https://localhost:8080/"
        },
        "id": "cHN3tDscMaBu",
        "outputId": "af3c6c44-8867-4d83-d1e4-981430d30429"
      },
      "execution_count": 9,
      "outputs": [
        {
          "output_type": "execute_result",
          "data": {
            "text/plain": [
              "array([5.5, 6.5, 7.5])"
            ]
          },
          "metadata": {},
          "execution_count": 9
        }
      ]
    },
    {
      "cell_type": "code",
      "source": [
        "np.mean(a)"
      ],
      "metadata": {
        "colab": {
          "base_uri": "https://localhost:8080/"
        },
        "id": "1RiwWUXFTdEX",
        "outputId": "8a1e3070-5aa3-4af4-b64c-e876cdc4ec6b"
      },
      "execution_count": 10,
      "outputs": [
        {
          "output_type": "execute_result",
          "data": {
            "text/plain": [
              "5.0"
            ]
          },
          "metadata": {},
          "execution_count": 10
        }
      ]
    },
    {
      "cell_type": "code",
      "source": [
        "np.mean(a,0) # tính mean riêng theo từng cột"
      ],
      "metadata": {
        "colab": {
          "base_uri": "https://localhost:8080/"
        },
        "id": "gQq6HDuHMh3s",
        "outputId": "713f4903-f56e-4be9-ef2a-a2ac1f688676"
      },
      "execution_count": 11,
      "outputs": [
        {
          "output_type": "execute_result",
          "data": {
            "text/plain": [
              "array([4., 5., 6.])"
            ]
          },
          "metadata": {},
          "execution_count": 11
        }
      ]
    },
    {
      "cell_type": "code",
      "source": [
        "np.mean(a,1)"
      ],
      "metadata": {
        "colab": {
          "base_uri": "https://localhost:8080/"
        },
        "id": "QKDlL1eqRPlF",
        "outputId": "9cb8152f-2c4e-4b62-dfce-f561bebd6bb5"
      },
      "execution_count": 12,
      "outputs": [
        {
          "output_type": "execute_result",
          "data": {
            "text/plain": [
              "array([2., 5., 8.])"
            ]
          },
          "metadata": {},
          "execution_count": 12
        }
      ]
    },
    {
      "cell_type": "code",
      "source": [
        "np.median(a)"
      ],
      "metadata": {
        "colab": {
          "base_uri": "https://localhost:8080/"
        },
        "id": "72qgEHFRToAP",
        "outputId": "baeeec6b-e746-428f-efc3-08d870421c9f"
      },
      "execution_count": 13,
      "outputs": [
        {
          "output_type": "execute_result",
          "data": {
            "text/plain": [
              "5.0"
            ]
          },
          "metadata": {},
          "execution_count": 13
        }
      ]
    },
    {
      "cell_type": "code",
      "source": [
        "np.median(a,0) # tính median riêng theo từng cột"
      ],
      "metadata": {
        "colab": {
          "base_uri": "https://localhost:8080/"
        },
        "id": "Age_mN9RRSeF",
        "outputId": "04569eea-4178-429b-b981-5481ca24649e"
      },
      "execution_count": 14,
      "outputs": [
        {
          "output_type": "execute_result",
          "data": {
            "text/plain": [
              "array([4., 5., 6.])"
            ]
          },
          "metadata": {},
          "execution_count": 14
        }
      ]
    },
    {
      "cell_type": "code",
      "source": [
        "np.median(a,1)"
      ],
      "metadata": {
        "colab": {
          "base_uri": "https://localhost:8080/"
        },
        "id": "LCGoq3A9RUJh",
        "outputId": "8f8139f7-755f-4571-e243-e188f31b91d4"
      },
      "execution_count": 15,
      "outputs": [
        {
          "output_type": "execute_result",
          "data": {
            "text/plain": [
              "array([2., 5., 8.])"
            ]
          },
          "metadata": {},
          "execution_count": 15
        }
      ]
    },
    {
      "cell_type": "code",
      "source": [
        "np.average(a,0)"
      ],
      "metadata": {
        "colab": {
          "base_uri": "https://localhost:8080/"
        },
        "id": "RWJDTGFtRWG6",
        "outputId": "f5ad8661-6760-422b-e730-d823e802c7ae"
      },
      "execution_count": 16,
      "outputs": [
        {
          "output_type": "execute_result",
          "data": {
            "text/plain": [
              "array([4., 5., 6.])"
            ]
          },
          "metadata": {},
          "execution_count": 16
        }
      ]
    },
    {
      "cell_type": "code",
      "source": [
        "np.average(a,1)"
      ],
      "metadata": {
        "colab": {
          "base_uri": "https://localhost:8080/"
        },
        "id": "OwPJ4E3qRgeh",
        "outputId": "8ec5a24f-3510-45e5-bd55-28117a24d14f"
      },
      "execution_count": 17,
      "outputs": [
        {
          "output_type": "execute_result",
          "data": {
            "text/plain": [
              "array([2., 5., 8.])"
            ]
          },
          "metadata": {},
          "execution_count": 17
        }
      ]
    },
    {
      "cell_type": "code",
      "source": [
        "np.std([1,2,3,4])"
      ],
      "metadata": {
        "colab": {
          "base_uri": "https://localhost:8080/"
        },
        "id": "3tpzdo_-RiLt",
        "outputId": "81b0b2f3-bfd5-4daa-9229-99e8c4d56b59"
      },
      "execution_count": 18,
      "outputs": [
        {
          "output_type": "execute_result",
          "data": {
            "text/plain": [
              "1.118033988749895"
            ]
          },
          "metadata": {},
          "execution_count": 18
        }
      ]
    },
    {
      "cell_type": "code",
      "source": [
        "np.var([1,2,3,4])"
      ],
      "metadata": {
        "colab": {
          "base_uri": "https://localhost:8080/"
        },
        "id": "oymu03Q3Rr-l",
        "outputId": "355e32da-4b09-408d-a42d-062815136d1c"
      },
      "execution_count": 19,
      "outputs": [
        {
          "output_type": "execute_result",
          "data": {
            "text/plain": [
              "1.25"
            ]
          },
          "metadata": {},
          "execution_count": 19
        }
      ]
    },
    {
      "cell_type": "markdown",
      "source": [
        "***Tạo bộ dữ liệu random***"
      ],
      "metadata": {
        "id": "FcBeEJh5UMVz"
      }
    },
    {
      "cell_type": "code",
      "source": [
        "import numpy as np\n",
        "\n",
        "x = np.random.randint(0,100)\n",
        "\n",
        "x"
      ],
      "metadata": {
        "id": "7xCdy8hsRt23",
        "colab": {
          "base_uri": "https://localhost:8080/"
        },
        "outputId": "bb29eb86-e879-44c0-bb67-1b94566044b2"
      },
      "execution_count": 20,
      "outputs": [
        {
          "output_type": "execute_result",
          "data": {
            "text/plain": [
              "8"
            ]
          },
          "metadata": {},
          "execution_count": 20
        }
      ]
    },
    {
      "cell_type": "code",
      "source": [
        "x = np.random.randint(0,100,size =(5))\n",
        "x"
      ],
      "metadata": {
        "colab": {
          "base_uri": "https://localhost:8080/"
        },
        "id": "X51q0IDEUap4",
        "outputId": "f8195a61-61c8-429e-ec62-30af874392ca"
      },
      "execution_count": 21,
      "outputs": [
        {
          "output_type": "execute_result",
          "data": {
            "text/plain": [
              "array([59,  1, 63, 84, 17])"
            ]
          },
          "metadata": {},
          "execution_count": 21
        }
      ]
    },
    {
      "cell_type": "code",
      "source": [
        "x = np.random.randint(0,100,size = (3,5))\n",
        "x"
      ],
      "metadata": {
        "colab": {
          "base_uri": "https://localhost:8080/"
        },
        "id": "L2ZJNjiWUhjY",
        "outputId": "1aeab927-7a68-4660-b29b-4fceef9d32b1"
      },
      "execution_count": 22,
      "outputs": [
        {
          "output_type": "execute_result",
          "data": {
            "text/plain": [
              "array([[52, 22, 64, 73, 88],\n",
              "       [10, 51, 44, 98, 26],\n",
              "       [26, 43, 86, 39, 70]])"
            ]
          },
          "metadata": {},
          "execution_count": 22
        }
      ]
    },
    {
      "cell_type": "code",
      "source": [
        "x = np.random.rand(3,5)\n",
        "x"
      ],
      "metadata": {
        "colab": {
          "base_uri": "https://localhost:8080/"
        },
        "id": "bDjLd5hiUsrj",
        "outputId": "ea420a84-ee5c-4caa-fc33-905ed353c119"
      },
      "execution_count": 23,
      "outputs": [
        {
          "output_type": "execute_result",
          "data": {
            "text/plain": [
              "array([[0.08106   , 0.41975942, 0.34729695, 0.00484384, 0.35775784],\n",
              "       [0.31811787, 0.72710832, 0.00723196, 0.11408068, 0.8807692 ],\n",
              "       [0.1174525 , 0.46003528, 0.51940147, 0.40289967, 0.70207508]])"
            ]
          },
          "metadata": {},
          "execution_count": 23
        }
      ]
    },
    {
      "cell_type": "code",
      "source": [
        "x = np.random.rand(3,5,4)\n",
        "x"
      ],
      "metadata": {
        "colab": {
          "base_uri": "https://localhost:8080/"
        },
        "id": "kdoWhWcEU0MM",
        "outputId": "1917c2ec-2db1-4ec2-9a09-d77e12c547bc"
      },
      "execution_count": 24,
      "outputs": [
        {
          "output_type": "execute_result",
          "data": {
            "text/plain": [
              "array([[[0.90164649, 0.78107964, 0.86595587, 0.39472059],\n",
              "        [0.41330637, 0.88917546, 0.32340868, 0.80466707],\n",
              "        [0.3431818 , 0.7702226 , 0.53096123, 0.86535264],\n",
              "        [0.73336718, 0.32525019, 0.39348691, 0.14844423],\n",
              "        [0.12947585, 0.43439794, 0.15805743, 0.49487108]],\n",
              "\n",
              "       [[0.42536951, 0.88310422, 0.64824263, 0.13267301],\n",
              "        [0.07668783, 0.46051132, 0.1791154 , 0.34104198],\n",
              "        [0.55033705, 0.89642315, 0.72387392, 0.88838608],\n",
              "        [0.55508643, 0.01286337, 0.57318292, 0.69327599],\n",
              "        [0.2469264 , 0.94639271, 0.57524106, 0.62443092]],\n",
              "\n",
              "       [[0.06586882, 0.68488745, 0.78138   , 0.1443034 ],\n",
              "        [0.66201616, 0.76798849, 0.95046337, 0.84832195],\n",
              "        [0.73175932, 0.7220954 , 0.22302914, 0.82748013],\n",
              "        [0.94174415, 0.00889175, 0.49403809, 0.72890059],\n",
              "        [0.24290188, 0.6041887 , 0.92481881, 0.09488373]]])"
            ]
          },
          "metadata": {},
          "execution_count": 24
        }
      ]
    },
    {
      "cell_type": "code",
      "source": [
        "x = np.random.choice([3,5,7,9], size = (3,5))\n",
        "x"
      ],
      "metadata": {
        "colab": {
          "base_uri": "https://localhost:8080/"
        },
        "id": "RCRrIP-oVGYe",
        "outputId": "499b84f4-0423-45c6-ebd2-6dd55e60c788"
      },
      "execution_count": 25,
      "outputs": [
        {
          "output_type": "execute_result",
          "data": {
            "text/plain": [
              "array([[3, 9, 7, 7, 3],\n",
              "       [3, 3, 3, 7, 9],\n",
              "       [3, 7, 9, 3, 5]])"
            ]
          },
          "metadata": {},
          "execution_count": 25
        }
      ]
    },
    {
      "cell_type": "code",
      "source": [
        "from numpy import random"
      ],
      "metadata": {
        "id": "bweAGBnSW77y"
      },
      "execution_count": 26,
      "outputs": []
    },
    {
      "cell_type": "code",
      "source": [
        "a = np.array([1,2,3,4,5])\n",
        "\n",
        "random.shuffle(a)"
      ],
      "metadata": {
        "id": "C-VzodQxXKMd"
      },
      "execution_count": 27,
      "outputs": []
    },
    {
      "cell_type": "code",
      "source": [
        "a"
      ],
      "metadata": {
        "colab": {
          "base_uri": "https://localhost:8080/"
        },
        "id": "-n1xsIXVXQhf",
        "outputId": "2774ed6a-b9f9-4e0a-917f-a11a24938fe9"
      },
      "execution_count": 28,
      "outputs": [
        {
          "output_type": "execute_result",
          "data": {
            "text/plain": [
              "array([2, 4, 5, 1, 3])"
            ]
          },
          "metadata": {},
          "execution_count": 28
        }
      ]
    },
    {
      "cell_type": "code",
      "source": [
        "random.permutation(a)\n",
        "\n",
        "a"
      ],
      "metadata": {
        "colab": {
          "base_uri": "https://localhost:8080/"
        },
        "id": "IVB-uJYrXRty",
        "outputId": "c318d477-c472-4310-ca79-830e24dcee68"
      },
      "execution_count": 29,
      "outputs": [
        {
          "output_type": "execute_result",
          "data": {
            "text/plain": [
              "array([2, 4, 5, 1, 3])"
            ]
          },
          "metadata": {},
          "execution_count": 29
        }
      ]
    },
    {
      "cell_type": "markdown",
      "source": [
        "# ***Ma trận trong NumPy***\n",
        "\n",
        "1.   Sort\n",
        "2.   Search\n",
        "3.   Split\n",
        "4.   Join\n"
      ],
      "metadata": {
        "id": "XJ5PQkWvA5nz"
      }
    },
    {
      "cell_type": "markdown",
      "source": [
        "***Sort***\n",
        "\n",
        "1. Xếp lại dữ liệu số theo thứ tự từ nhỏ đến lớn\n",
        "2. Xếp lại dữ liệu char theo alpha a,b"
      ],
      "metadata": {
        "id": "mrbXlXunZ7kM"
      }
    },
    {
      "cell_type": "code",
      "source": [
        "import numpy as np\n",
        "\n",
        "a = np.array([3,2,1,8])\n",
        "\n",
        "np.sort(a)"
      ],
      "metadata": {
        "colab": {
          "base_uri": "https://localhost:8080/"
        },
        "id": "sobIHg_FXcPI",
        "outputId": "d4a9e992-4dd9-4969-a576-fdafa5800184"
      },
      "execution_count": 30,
      "outputs": [
        {
          "output_type": "execute_result",
          "data": {
            "text/plain": [
              "array([1, 2, 3, 8])"
            ]
          },
          "metadata": {},
          "execution_count": 30
        }
      ]
    },
    {
      "cell_type": "code",
      "source": [
        "a = np.array(['banana','cherry','apple'])\n",
        "np.sort(a)"
      ],
      "metadata": {
        "colab": {
          "base_uri": "https://localhost:8080/"
        },
        "id": "uBvLelAYZJAs",
        "outputId": "4f82501b-1aac-4510-d56c-c545d9d8e13d"
      },
      "execution_count": 31,
      "outputs": [
        {
          "output_type": "execute_result",
          "data": {
            "text/plain": [
              "array(['apple', 'banana', 'cherry'], dtype='<U6')"
            ]
          },
          "metadata": {},
          "execution_count": 31
        }
      ]
    },
    {
      "cell_type": "code",
      "source": [
        "a = np.array([True, False, True])\n",
        "\n",
        "np.sort(a)"
      ],
      "metadata": {
        "colab": {
          "base_uri": "https://localhost:8080/"
        },
        "id": "iDzcwWVQZaxs",
        "outputId": "76dbb4f8-4761-404f-8433-255dbfd5c74a"
      },
      "execution_count": 32,
      "outputs": [
        {
          "output_type": "execute_result",
          "data": {
            "text/plain": [
              "array([False,  True,  True])"
            ]
          },
          "metadata": {},
          "execution_count": 32
        }
      ]
    },
    {
      "cell_type": "code",
      "source": [
        "a = np.array([[3,2,1,8],[6,3,5,4]])\n",
        "\n",
        "np.sort(a)"
      ],
      "metadata": {
        "colab": {
          "base_uri": "https://localhost:8080/"
        },
        "id": "3PYFZaWeZuFe",
        "outputId": "b4ed534a-5fd8-431c-b66a-8e7b8db63f45"
      },
      "execution_count": 33,
      "outputs": [
        {
          "output_type": "execute_result",
          "data": {
            "text/plain": [
              "array([[1, 2, 3, 8],\n",
              "       [3, 4, 5, 6]])"
            ]
          },
          "metadata": {},
          "execution_count": 33
        }
      ]
    },
    {
      "cell_type": "markdown",
      "source": [
        "***Search***\n",
        "\n",
        "Tìm kiếm vị trí thỏa theo yêu cầu cho trước "
      ],
      "metadata": {
        "id": "-KZ46eZ3aZ-i"
      }
    },
    {
      "cell_type": "code",
      "source": [
        "x = np.array([4,2,4,5,5,4,7]) #tìm những vị trí mà gtri tại đó bằng 4\n",
        "\n",
        "a = np.where(x == 4)\n",
        "\n",
        "a"
      ],
      "metadata": {
        "colab": {
          "base_uri": "https://localhost:8080/"
        },
        "id": "ZRLHipugZ292",
        "outputId": "cde266f4-2937-4bfc-d0f5-47e6a5526c84"
      },
      "execution_count": 34,
      "outputs": [
        {
          "output_type": "execute_result",
          "data": {
            "text/plain": [
              "(array([0, 2, 5]),)"
            ]
          },
          "metadata": {},
          "execution_count": 34
        }
      ]
    },
    {
      "cell_type": "code",
      "source": [
        "a = np.where(x %  2 == 1) #tìm những vị trí mà giá trị tại đó chia 2 dư 1\n",
        "a"
      ],
      "metadata": {
        "colab": {
          "base_uri": "https://localhost:8080/"
        },
        "id": "Fd5F-j3PauJM",
        "outputId": "57055b39-4df1-463e-ef5b-6da1fd26f394"
      },
      "execution_count": 35,
      "outputs": [
        {
          "output_type": "execute_result",
          "data": {
            "text/plain": [
              "(array([3, 4, 6]),)"
            ]
          },
          "metadata": {},
          "execution_count": 35
        }
      ]
    },
    {
      "cell_type": "code",
      "source": [
        "x = np.array([8,7,6,9,19]) #\n",
        "\n",
        "a = np.searchsorted(x,7,side = 'right')\n",
        "\n",
        "a"
      ],
      "metadata": {
        "colab": {
          "base_uri": "https://localhost:8080/"
        },
        "id": "wbCfQsQpbLyp",
        "outputId": "796a46c6-5129-433f-a4f0-aa729a8e2a83"
      },
      "execution_count": 44,
      "outputs": [
        {
          "output_type": "execute_result",
          "data": {
            "text/plain": [
              "3"
            ]
          },
          "metadata": {},
          "execution_count": 44
        }
      ]
    },
    {
      "cell_type": "markdown",
      "source": [
        "***Nguyên văn chú thích được trích từ numpy.org***\n",
        "\n",
        "numpy.searchsorted(a, v, side='left', sorter=None)\n",
        "\n",
        "Find indices where elements should be inserted to maintain order.\n",
        "\n",
        "Find the indices into a sorted array a such that, if the corresponding elements in v were inserted before the indices, the order of a would be preserved.\n",
        "\n",
        "\n",
        "\n",
        "\n",
        "1.  left  a[i-1] < v <= a[i]\n",
        "2.  right a[i-1] <= v < a[i]\n",
        "\n"
      ],
      "metadata": {
        "id": "KBlRCA4w8UGH"
      }
    },
    {
      "cell_type": "code",
      "source": [
        "x = np.array([6,7,19,9,8]) # \n",
        "\n",
        "a = np.searchsorted(x,9,side = 'left')\n",
        "\n",
        "a"
      ],
      "metadata": {
        "colab": {
          "base_uri": "https://localhost:8080/"
        },
        "id": "BNsxTGqz6kgV",
        "outputId": "3830564f-b96f-4662-9778-0e852dc750ec"
      },
      "execution_count": 43,
      "outputs": [
        {
          "output_type": "execute_result",
          "data": {
            "text/plain": [
              "2"
            ]
          },
          "metadata": {},
          "execution_count": 43
        }
      ]
    },
    {
      "cell_type": "code",
      "source": [
        "np.searchsorted([1,2,3,4,5], [-10, 10, 2, 3])"
      ],
      "metadata": {
        "colab": {
          "base_uri": "https://localhost:8080/"
        },
        "id": "jgytNQVD65CP",
        "outputId": "1b1d5ce4-20da-4013-dbb1-77ac4956df27"
      },
      "execution_count": 42,
      "outputs": [
        {
          "output_type": "execute_result",
          "data": {
            "text/plain": [
              "array([0, 5, 1, 2])"
            ]
          },
          "metadata": {},
          "execution_count": 42
        }
      ]
    },
    {
      "cell_type": "code",
      "source": [
        ""
      ],
      "metadata": {
        "id": "XjAMJx2M8HAE"
      },
      "execution_count": null,
      "outputs": []
    }
  ]
}