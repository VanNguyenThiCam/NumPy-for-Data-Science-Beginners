{
  "nbformat": 4,
  "nbformat_minor": 0,
  "metadata": {
    "colab": {
      "name": "Import & Test Dimension, Type, Reshape, Size of Array",
      "provenance": [],
      "authorship_tag": "ABX9TyM71G/WaKfLKURozEd78wYn",
      "include_colab_link": true
    },
    "kernelspec": {
      "name": "python3",
      "display_name": "Python 3"
    },
    "language_info": {
      "name": "python"
    },
    "accelerator": "GPU"
  },
  "cells": [
    {
      "cell_type": "markdown",
      "metadata": {
        "id": "view-in-github",
        "colab_type": "text"
      },
      "source": [
        "<a href=\"https://colab.research.google.com/github/VanNguyenThiCam/NumPy-for-Data-Science-Beginners/blob/main/Import_%26_Test_Dimension%2C_Type%2C_Reshape%2C_Size_of_Array.ipynb\" target=\"_parent\"><img src=\"https://colab.research.google.com/assets/colab-badge.svg\" alt=\"Open In Colab\"/></a>"
      ]
    },
    {
      "cell_type": "markdown",
      "source": [
        "***Sử dụng NumPy***\n",
        "\n",
        "\n",
        "\n",
        "1.   Arithmetic Operations - Các phép tính toán\n",
        "2.   Statisticals Operations - Các phép toán thông kê\n",
        "3.   Bitwise Operators - Toán tử Bitwise \n",
        "4.   Copying & viewing arrays - Copy và view ma trận\n",
        "5.   Stacking - Xếp chồng\n",
        "6.   Matrix Operations - Tính toán ma trận\n",
        "7.   Linear Algebra - Đại số tuyến tính\n",
        "8.   Broadcasting - Broadcasting\n",
        "9.   Mathematical Operations - Các phép tính toán\n",
        "10.  Searching, Sorting & Counting \n",
        "\n"
      ],
      "metadata": {
        "id": "jx6K2k5zrx-l"
      }
    },
    {
      "cell_type": "markdown",
      "source": [
        "***Một số import cơ bản***\n",
        "\n",
        "\n",
        "\n",
        "1.   Kiểm tra version numPy\n",
        "2.   Tạo ma trận\n",
        "\n"
      ],
      "metadata": {
        "id": "o5bVou7nyj-7"
      }
    },
    {
      "cell_type": "code",
      "execution_count": 2,
      "metadata": {
        "id": "37kcE4hiCrjR"
      },
      "outputs": [],
      "source": [
        "import numpy as np "
      ]
    },
    {
      "cell_type": "code",
      "source": [
        "array = np.array([1,2,3,4])\n",
        "print(array)"
      ],
      "metadata": {
        "colab": {
          "base_uri": "https://localhost:8080/"
        },
        "id": "5Hzt99xwrMQp",
        "outputId": "c48149a1-2771-4a21-e01e-0c47aad6d9c5"
      },
      "execution_count": 3,
      "outputs": [
        {
          "output_type": "stream",
          "name": "stdout",
          "text": [
            "[1 2 3 4]\n"
          ]
        }
      ]
    },
    {
      "cell_type": "code",
      "source": [
        "ar = np.arange(6)\n",
        "print(ar)"
      ],
      "metadata": {
        "colab": {
          "base_uri": "https://localhost:8080/"
        },
        "id": "0NcDgCHZrdpX",
        "outputId": "f9a06fb8-079f-474d-f49f-eda1c5d45969"
      },
      "execution_count": 9,
      "outputs": [
        {
          "output_type": "stream",
          "name": "stdout",
          "text": [
            "[0 1 2 3 4 5]\n"
          ]
        }
      ]
    },
    {
      "cell_type": "code",
      "source": [
        "np.random.randint(2,10) #xuất số ngẫu nhiên trong khoảng 2, 10"
      ],
      "metadata": {
        "colab": {
          "base_uri": "https://localhost:8080/"
        },
        "id": "SOfP6_opuk1M",
        "outputId": "83b83285-579d-46bc-b9ff-7bb21875595b"
      },
      "execution_count": 13,
      "outputs": [
        {
          "output_type": "execute_result",
          "data": {
            "text/plain": [
              "4"
            ]
          },
          "metadata": {},
          "execution_count": 13
        }
      ]
    },
    {
      "cell_type": "code",
      "source": [
        "print(np.__version__) #xem phiên bản numPy đang sử dụng"
      ],
      "metadata": {
        "colab": {
          "base_uri": "https://localhost:8080/"
        },
        "id": "koTf01Sxu7nl",
        "outputId": "e1a2bd17-789c-4bc9-b05c-15a7b5a96e87"
      },
      "execution_count": 15,
      "outputs": [
        {
          "output_type": "stream",
          "name": "stdout",
          "text": [
            "1.21.6\n"
          ]
        }
      ]
    },
    {
      "cell_type": "code",
      "source": [
        "sample = np.random.randint(0,100,20000000)\n",
        "\n",
        "%timeit np.power(sample, 2)"
      ],
      "metadata": {
        "colab": {
          "base_uri": "https://localhost:8080/"
        },
        "id": "FSE0rEWAw1FG",
        "outputId": "4acc85a1-9857-4b37-ee0f-a5bea7ed5137"
      },
      "execution_count": 20,
      "outputs": [
        {
          "output_type": "stream",
          "name": "stdout",
          "text": [
            "10 loops, best of 5: 51.3 ms per loop\n"
          ]
        }
      ]
    },
    {
      "cell_type": "code",
      "source": [
        "%timeit list(np.power(sample, 2)) #kiểm tra thời gian chạy của dòng lệnh"
      ],
      "metadata": {
        "colab": {
          "base_uri": "https://localhost:8080/"
        },
        "id": "pHi8C2MyxyXi",
        "outputId": "d3d25bb3-8dbd-4171-a201-0983dc18f3be"
      },
      "execution_count": 21,
      "outputs": [
        {
          "output_type": "stream",
          "name": "stdout",
          "text": [
            "1 loop, best of 5: 1.27 s per loop\n"
          ]
        }
      ]
    },
    {
      "cell_type": "markdown",
      "source": [
        "***Numpy trong ma trận***\n",
        "\n",
        "\n",
        "\n",
        "1.   Kiểm tra type, số chiều của ma trận\n",
        "2.   List item\n",
        "\n"
      ],
      "metadata": {
        "id": "-wMBrcWKyp0S"
      }
    },
    {
      "cell_type": "code",
      "source": [
        "import numpy as np\n",
        "\n",
        "arr = np.array([1,2,3,4])"
      ],
      "metadata": {
        "id": "e9_Xj-k8yCGI"
      },
      "execution_count": 3,
      "outputs": []
    },
    {
      "cell_type": "markdown",
      "source": [
        "***Type***"
      ],
      "metadata": {
        "id": "w9NQQR5dYu4s"
      }
    },
    {
      "cell_type": "code",
      "source": [
        "print(type(arr)) #kiểm tra loại dữ liệu"
      ],
      "metadata": {
        "colab": {
          "base_uri": "https://localhost:8080/"
        },
        "id": "8sY2QpSbXoMI",
        "outputId": "cc12ea0b-4c0a-42fc-bc5c-fbdfe330d243"
      },
      "execution_count": 4,
      "outputs": [
        {
          "output_type": "stream",
          "name": "stdout",
          "text": [
            "<class 'numpy.ndarray'>\n"
          ]
        }
      ]
    },
    {
      "cell_type": "markdown",
      "source": [
        "***Dimension***"
      ],
      "metadata": {
        "id": "2mrDUiKHYyn_"
      }
    },
    {
      "cell_type": "code",
      "source": [
        "a = np.array(12) #kiểm tra số chiều\n",
        "print(a.ndim)"
      ],
      "metadata": {
        "colab": {
          "base_uri": "https://localhost:8080/"
        },
        "id": "B77pwe6BXqfM",
        "outputId": "274ba829-22c4-4d1f-915c-9ebba059b238"
      },
      "execution_count": 6,
      "outputs": [
        {
          "output_type": "stream",
          "name": "stdout",
          "text": [
            "0\n"
          ]
        }
      ]
    },
    {
      "cell_type": "code",
      "source": [
        "a = np.array([1,2,3,4])\n",
        "print(a.ndim)"
      ],
      "metadata": {
        "colab": {
          "base_uri": "https://localhost:8080/"
        },
        "id": "3tmHUOaIX5TD",
        "outputId": "9ea69a8d-5b11-4f3f-aea6-df80b3cf95fd"
      },
      "execution_count": 7,
      "outputs": [
        {
          "output_type": "stream",
          "name": "stdout",
          "text": [
            "1\n"
          ]
        }
      ]
    },
    {
      "cell_type": "code",
      "source": [
        "a = np.array([[1,2,3,4],[5,6,7,8]])\n",
        "print(a.ndim)"
      ],
      "metadata": {
        "colab": {
          "base_uri": "https://localhost:8080/"
        },
        "id": "3DhvL_lPYDPy",
        "outputId": "52a61783-c38b-4c45-a60f-9eee7e8ae6ba"
      },
      "execution_count": 17,
      "outputs": [
        {
          "output_type": "stream",
          "name": "stdout",
          "text": [
            "2\n"
          ]
        }
      ]
    },
    {
      "cell_type": "markdown",
      "source": [
        "***Shape***"
      ],
      "metadata": {
        "id": "jQ-MJC7jY2eB"
      }
    },
    {
      "cell_type": "code",
      "source": [
        "a = np.array([[1,2,3,4],[5,6,7,8]])\n"
      ],
      "metadata": {
        "id": "gYO4262CZylO"
      },
      "execution_count": 25,
      "outputs": []
    },
    {
      "cell_type": "code",
      "source": [
        "print(a.shape) #kiểm tra kích cỡ của ma trận a"
      ],
      "metadata": {
        "colab": {
          "base_uri": "https://localhost:8080/"
        },
        "id": "Ggw8JCLgYY6O",
        "outputId": "d7d0eb57-67ee-4f0e-a4ee-9dcb7268443e"
      },
      "execution_count": 26,
      "outputs": [
        {
          "output_type": "stream",
          "name": "stdout",
          "text": [
            "(2, 4)\n"
          ]
        }
      ]
    },
    {
      "cell_type": "code",
      "source": [
        "a.shape = (4,2) #Cách 1: thay đổi kích cỡ của ma trận a và in ra ma trận theo kích cỡ mới"
      ],
      "metadata": {
        "id": "MLdFSla4Y79v"
      },
      "execution_count": 30,
      "outputs": []
    },
    {
      "cell_type": "code",
      "source": [
        "print(a)"
      ],
      "metadata": {
        "colab": {
          "base_uri": "https://localhost:8080/"
        },
        "id": "4RtC2jXGZNC5",
        "outputId": "72d14039-991a-47dc-ae30-6ba37be53b1c"
      },
      "execution_count": 28,
      "outputs": [
        {
          "output_type": "stream",
          "name": "stdout",
          "text": [
            "[[1 2]\n",
            " [3 4]\n",
            " [5 6]\n",
            " [7 8]]\n"
          ]
        }
      ]
    },
    {
      "cell_type": "code",
      "source": [
        "b = a.reshape(2,4) #cách 2 thường dùng hơn\n",
        "print(b)"
      ],
      "metadata": {
        "colab": {
          "base_uri": "https://localhost:8080/"
        },
        "id": "8I_EkzQBZO0Q",
        "outputId": "dd5db05c-b3dd-4858-be89-3724045258f3"
      },
      "execution_count": 29,
      "outputs": [
        {
          "output_type": "stream",
          "name": "stdout",
          "text": [
            "[[1 2 3 4]\n",
            " [5 6 7 8]]\n"
          ]
        }
      ]
    },
    {
      "cell_type": "code",
      "source": [
        "a = np.array([[1,2,3],[4,5,6],[7,8,9],[0,11,12]])\n",
        "print(a.shape)"
      ],
      "metadata": {
        "colab": {
          "base_uri": "https://localhost:8080/"
        },
        "id": "hkXp6LKBZoIn",
        "outputId": "9ae8db72-1de1-4f62-cc99-b5c195936a63"
      },
      "execution_count": 31,
      "outputs": [
        {
          "output_type": "stream",
          "name": "stdout",
          "text": [
            "(4, 3)\n"
          ]
        }
      ]
    },
    {
      "cell_type": "code",
      "source": [
        "b = a.reshape(2,3,2)\n",
        "print(b)"
      ],
      "metadata": {
        "colab": {
          "base_uri": "https://localhost:8080/"
        },
        "id": "_YP6xIyBaRHw",
        "outputId": "e6d21503-343e-47c8-e9f8-bb9ac35e4971"
      },
      "execution_count": 32,
      "outputs": [
        {
          "output_type": "stream",
          "name": "stdout",
          "text": [
            "[[[ 1  2]\n",
            "  [ 3  4]\n",
            "  [ 5  6]]\n",
            "\n",
            " [[ 7  8]\n",
            "  [ 9  0]\n",
            "  [11 12]]]\n"
          ]
        }
      ]
    },
    {
      "cell_type": "code",
      "source": [
        "arr = b.reshape(-1) #duỗi thành 1 vecto\n",
        "print(arr)"
      ],
      "metadata": {
        "colab": {
          "base_uri": "https://localhost:8080/"
        },
        "id": "-l47HFRZaXhN",
        "outputId": "1519d36a-ebf3-4ff3-87c5-a98d1cca6dd6"
      },
      "execution_count": 35,
      "outputs": [
        {
          "output_type": "stream",
          "name": "stdout",
          "text": [
            "[ 1  2  3  4  5  6  7  8  9  0 11 12]\n"
          ]
        }
      ]
    },
    {
      "cell_type": "markdown",
      "source": [
        "***Size***"
      ],
      "metadata": {
        "id": "brPNOkI-axsx"
      }
    },
    {
      "cell_type": "code",
      "source": [
        "arr = np.array([1,2,3,4])\n",
        "print(arr.dtype)"
      ],
      "metadata": {
        "colab": {
          "base_uri": "https://localhost:8080/"
        },
        "id": "0eqOI7aJaoc8",
        "outputId": "1dd730a1-a3bc-4f8f-f86d-bfd9213c0fc0"
      },
      "execution_count": 36,
      "outputs": [
        {
          "output_type": "stream",
          "name": "stdout",
          "text": [
            "int64\n"
          ]
        }
      ]
    },
    {
      "cell_type": "code",
      "source": [
        "arr.itemsize"
      ],
      "metadata": {
        "colab": {
          "base_uri": "https://localhost:8080/"
        },
        "id": "ZC84PLJJbdis",
        "outputId": "5a1cb311-30fb-4ffe-8f0b-d74f91c9204e"
      },
      "execution_count": 37,
      "outputs": [
        {
          "output_type": "execute_result",
          "data": {
            "text/plain": [
              "8"
            ]
          },
          "metadata": {},
          "execution_count": 37
        }
      ]
    },
    {
      "cell_type": "code",
      "source": [
        "arr = np.array([1,2,3,4], dtype = 'int64') #cách ép kiểu dữ liệu để đưa dữ liệu về cùng 1 loại\n",
        "print(arr.dtype)"
      ],
      "metadata": {
        "colab": {
          "base_uri": "https://localhost:8080/"
        },
        "id": "rxIE23F1bhKf",
        "outputId": "51f3f8ea-ed05-4d66-c1a6-4181a05a7b92"
      },
      "execution_count": 40,
      "outputs": [
        {
          "output_type": "stream",
          "name": "stdout",
          "text": [
            "int64\n"
          ]
        }
      ]
    },
    {
      "cell_type": "code",
      "source": [
        "print(arr.size*arr.itemsize)"
      ],
      "metadata": {
        "colab": {
          "base_uri": "https://localhost:8080/"
        },
        "id": "mdI0qlGPbsf0",
        "outputId": "50c5c89c-463b-49be-ee70-d7bf1f9ddc87"
      },
      "execution_count": 41,
      "outputs": [
        {
          "output_type": "stream",
          "name": "stdout",
          "text": [
            "32\n"
          ]
        }
      ]
    },
    {
      "cell_type": "code",
      "source": [
        "arr = np.array([1,2,3,4], dtype = complex) #chuyển về dạng số thực\n",
        "print(arr)"
      ],
      "metadata": {
        "colab": {
          "base_uri": "https://localhost:8080/"
        },
        "id": "gSoeh4gIcOdn",
        "outputId": "041c47ce-5a63-48ee-b819-45eccf4af125"
      },
      "execution_count": 42,
      "outputs": [
        {
          "output_type": "stream",
          "name": "stdout",
          "text": [
            "[1.+0.j 2.+0.j 3.+0.j 4.+0.j]\n"
          ]
        }
      ]
    },
    {
      "cell_type": "code",
      "source": [
        "arr = np.array([1.1, 2.3, 3.4, 5.5]) #trích lấy phần thực\n",
        "\n",
        "cv = arr.astype('i')\n",
        "print(cv)"
      ],
      "metadata": {
        "colab": {
          "base_uri": "https://localhost:8080/"
        },
        "id": "tsrDqtz2cXfT",
        "outputId": "6199cb28-b964-4801-d727-e019b57133cd"
      },
      "execution_count": 43,
      "outputs": [
        {
          "output_type": "stream",
          "name": "stdout",
          "text": [
            "[1 2 3 5]\n"
          ]
        }
      ]
    },
    {
      "cell_type": "code",
      "source": [
        ""
      ],
      "metadata": {
        "id": "RW3Rb6TKcpO7"
      },
      "execution_count": null,
      "outputs": []
    }
  ]
}