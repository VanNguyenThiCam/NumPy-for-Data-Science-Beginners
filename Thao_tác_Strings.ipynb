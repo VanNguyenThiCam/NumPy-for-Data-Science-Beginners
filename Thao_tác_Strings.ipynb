{
  "nbformat": 4,
  "nbformat_minor": 0,
  "metadata": {
    "colab": {
      "name": "Thao tác Strings.ipynb",
      "provenance": [],
      "authorship_tag": "ABX9TyOAimfvLeqOI1DaVmM9YBso",
      "include_colab_link": true
    },
    "kernelspec": {
      "name": "python3",
      "display_name": "Python 3"
    },
    "language_info": {
      "name": "python"
    },
    "accelerator": "GPU"
  },
  "cells": [
    {
      "cell_type": "markdown",
      "metadata": {
        "id": "view-in-github",
        "colab_type": "text"
      },
      "source": [
        "<a href=\"https://colab.research.google.com/github/VanNguyenThiCam/NumPy-for-Data-Science-Beginners/blob/main/Thao_t%C3%A1c_Strings.ipynb\" target=\"_parent\"><img src=\"https://colab.research.google.com/assets/colab-badge.svg\" alt=\"Open In Colab\"/></a>"
      ]
    },
    {
      "cell_type": "markdown",
      "source": [
        "***Thao tác Strings trong NumPy***\n",
        "\n",
        "1.   np.lower()\n",
        "2.   np.upper()\n",
        "3.   np.split()\n",
        "4.   np.join()\n",
        "5.   np.strip()\n",
        "6.   np.capiatlize()\n",
        "7.   np.title()\n",
        "8.   np.center()\n",
        "9.   np.encode()\n",
        "10.   np.decode()\n",
        "11.   np.ljust()\n",
        "12.   np.rjust()\n"
      ],
      "metadata": {
        "id": "DDEHiIys5YKi"
      }
    },
    {
      "cell_type": "code",
      "execution_count": null,
      "metadata": {
        "colab": {
          "base_uri": "https://localhost:8080/"
        },
        "id": "ik-0CpIm5Uaj",
        "outputId": "144e5386-6039-46a1-b51d-f47b92751232"
      },
      "outputs": [
        {
          "output_type": "stream",
          "name": "stdout",
          "text": [
            "['HelloWorld']\n"
          ]
        }
      ],
      "source": [
        "import numpy as np\n",
        "\n",
        "print(np.char.add(['Hello'], ['World']))"
      ]
    },
    {
      "cell_type": "code",
      "source": [
        "print(np.char.add(['Hello', 'hi'],['ab']))"
      ],
      "metadata": {
        "colab": {
          "base_uri": "https://localhost:8080/"
        },
        "id": "yjOI188j7Tmy",
        "outputId": "5221ae9d-88d5-44a0-c6fc-5d84abddead9"
      },
      "execution_count": null,
      "outputs": [
        {
          "output_type": "stream",
          "name": "stdout",
          "text": [
            "['Helloab' 'hiab']\n"
          ]
        }
      ]
    },
    {
      "cell_type": "code",
      "source": [
        "print(np.char.add(['hello','hi'],['alo','elo']))"
      ],
      "metadata": {
        "colab": {
          "base_uri": "https://localhost:8080/"
        },
        "id": "RyyXuSVr_iBA",
        "outputId": "980dd3e9-0ddb-493a-99f2-4e6cfeb2b02e"
      },
      "execution_count": null,
      "outputs": [
        {
          "output_type": "stream",
          "name": "stdout",
          "text": [
            "['helloalo' 'hielo']\n"
          ]
        }
      ]
    },
    {
      "cell_type": "code",
      "source": [
        "print(np.char.multiply('hello ',3))"
      ],
      "metadata": {
        "colab": {
          "base_uri": "https://localhost:8080/"
        },
        "id": "VUuOA9kj_yKv",
        "outputId": "512a3ccb-732a-4774-a8db-2806f8df196c"
      },
      "execution_count": null,
      "outputs": [
        {
          "output_type": "stream",
          "name": "stdout",
          "text": [
            "hello hello hello \n"
          ]
        }
      ]
    },
    {
      "cell_type": "code",
      "source": [
        "print(np.char.center('hello',20,fillchar = '*'))"
      ],
      "metadata": {
        "colab": {
          "base_uri": "https://localhost:8080/"
        },
        "id": "7RcwlMxx_-Vh",
        "outputId": "23e87c08-b6f9-4dfc-e37e-3f6fb264684a"
      },
      "execution_count": null,
      "outputs": [
        {
          "output_type": "stream",
          "name": "stdout",
          "text": [
            "*******hello********\n"
          ]
        }
      ]
    },
    {
      "cell_type": "code",
      "source": [
        "print(np.char.capitalize('hello world')) #in hoa chữ cái đầu của từ đầu tiên"
      ],
      "metadata": {
        "colab": {
          "base_uri": "https://localhost:8080/"
        },
        "id": "IB4mImYwAU9s",
        "outputId": "dfc6c5cf-e494-4123-d3c7-cedd91fd97a0"
      },
      "execution_count": null,
      "outputs": [
        {
          "output_type": "stream",
          "name": "stdout",
          "text": [
            "Hello world\n"
          ]
        }
      ]
    },
    {
      "cell_type": "code",
      "source": [
        "print(np.char.title('hello world')) #in hoa chữ cái đầu của tất cả các từ trong câu"
      ],
      "metadata": {
        "colab": {
          "base_uri": "https://localhost:8080/"
        },
        "id": "v5PjecvdAdky",
        "outputId": "01961244-fd6f-4b73-e169-a097845b8ad8"
      },
      "execution_count": null,
      "outputs": [
        {
          "output_type": "stream",
          "name": "stdout",
          "text": [
            "Hello World\n"
          ]
        }
      ]
    },
    {
      "cell_type": "code",
      "source": [
        "print(np.char.lower('HELLO WORLD'))"
      ],
      "metadata": {
        "colab": {
          "base_uri": "https://localhost:8080/"
        },
        "id": "EzIJIPr8AvMl",
        "outputId": "7b7a532d-5809-4170-9362-dd90f6ace968"
      },
      "execution_count": null,
      "outputs": [
        {
          "output_type": "stream",
          "name": "stdout",
          "text": [
            "hello world\n"
          ]
        }
      ]
    },
    {
      "cell_type": "code",
      "source": [
        "print(np.char.upper('hello world'))"
      ],
      "metadata": {
        "colab": {
          "base_uri": "https://localhost:8080/"
        },
        "id": "X2yWibglBDAq",
        "outputId": "7631515f-2ebc-4eb5-c8aa-242b28ee5ed0"
      },
      "execution_count": null,
      "outputs": [
        {
          "output_type": "stream",
          "name": "stdout",
          "text": [
            "HELLO WORLD\n"
          ]
        }
      ]
    },
    {
      "cell_type": "code",
      "source": [
        "print(np.char.join(':','dmy'))"
      ],
      "metadata": {
        "colab": {
          "base_uri": "https://localhost:8080/"
        },
        "id": "JwuvdsUcBIPM",
        "outputId": "42006089-542f-436a-b6c1-a093c0cf30cf"
      },
      "execution_count": null,
      "outputs": [
        {
          "output_type": "stream",
          "name": "stdout",
          "text": [
            "d:m:y\n"
          ]
        }
      ]
    },
    {
      "cell_type": "code",
      "source": [
        "print(np.char.replace('she is a good girl','is','was'))"
      ],
      "metadata": {
        "colab": {
          "base_uri": "https://localhost:8080/"
        },
        "id": "LXZxg6IaIhqv",
        "outputId": "65ff05ff-0cd7-4474-b50f-1330948c6615"
      },
      "execution_count": null,
      "outputs": [
        {
          "output_type": "stream",
          "name": "stdout",
          "text": [
            "she was a good girl\n"
          ]
        }
      ]
    },
    {
      "cell_type": "code",
      "source": [
        ""
      ],
      "metadata": {
        "id": "c-P8rn5bIwVo"
      },
      "execution_count": null,
      "outputs": []
    }
  ]
}