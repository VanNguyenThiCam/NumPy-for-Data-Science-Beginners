{
  "nbformat": 4,
  "nbformat_minor": 0,
  "metadata": {
    "colab": {
      "name": "Toán_Thống kê_Ma trận .ipynb",
      "provenance": [],
      "collapsed_sections": [],
      "toc_visible": true,
      "include_colab_link": true
    },
    "kernelspec": {
      "name": "python3",
      "display_name": "Python 3"
    },
    "language_info": {
      "name": "python"
    },
    "accelerator": "GPU"
  },
  "cells": [
    {
      "cell_type": "markdown",
      "metadata": {
        "id": "view-in-github",
        "colab_type": "text"
      },
      "source": [
        "<a href=\"https://colab.research.google.com/github/VanNguyenThiCam/NumPy-for-Data-Science-Beginners/blob/main/To%C3%A1n_Th%E1%BB%91ng_k%C3%AA_Ma_tr%E1%BA%ADn_.ipynb\" target=\"_parent\"><img src=\"https://colab.research.google.com/assets/colab-badge.svg\" alt=\"Open In Colab\"/></a>"
      ]
    },
    {
      "cell_type": "markdown",
      "source": [
        "# ***Toán thống kê***\n",
        "\n",
        "\n",
        "\n",
        "1.   Mean\n",
        "2.   Median\n",
        "3.   Standard Deviation\n",
        "4.   Variance\n",
        "5.   Average\n",
        "6.   Percentile\n",
        "7.   Peak to Peak"
      ],
      "metadata": {
        "id": "LLbFmhfp-EKJ"
      }
    },
    {
      "cell_type": "code",
      "execution_count": 1,
      "metadata": {
        "colab": {
          "base_uri": "https://localhost:8080/"
        },
        "id": "N7wdPmNMJNus",
        "outputId": "eba456a3-83a7-42af-a96b-4ccdbd7372aa"
      },
      "outputs": [
        {
          "output_type": "stream",
          "name": "stdout",
          "text": [
            "[[1 2 3]\n",
            " [4 5 6]\n",
            " [7 8 9]]\n"
          ]
        }
      ],
      "source": [
        "import numpy as np\n",
        "\n",
        "a = np.array([[1,2,3],[4,5,6],[7,8,9]])\n",
        "\n",
        "print(a)"
      ]
    },
    {
      "cell_type": "code",
      "source": [
        "np.amin(a,0) #lấy số có giá trị nhỏ nhất theo từng cột --> áp dụng trong môn phương pháp tính "
      ],
      "metadata": {
        "colab": {
          "base_uri": "https://localhost:8080/"
        },
        "id": "RiIuoWHJKXyq",
        "outputId": "61fb1f92-3b77-4683-9bfe-d775a163a50e"
      },
      "execution_count": 2,
      "outputs": [
        {
          "output_type": "execute_result",
          "data": {
            "text/plain": [
              "array([1, 2, 3])"
            ]
          },
          "metadata": {},
          "execution_count": 2
        }
      ]
    },
    {
      "cell_type": "code",
      "source": [
        "np.amin(a,1)"
      ],
      "metadata": {
        "colab": {
          "base_uri": "https://localhost:8080/"
        },
        "id": "O3R0oWOLKqVL",
        "outputId": "7f1222f5-4239-411c-81ef-041ed5329840"
      },
      "execution_count": 3,
      "outputs": [
        {
          "output_type": "execute_result",
          "data": {
            "text/plain": [
              "array([1, 4, 7])"
            ]
          },
          "metadata": {},
          "execution_count": 3
        }
      ]
    },
    {
      "cell_type": "code",
      "source": [
        "np.amax(a,0)# lấy số có giá trị lớn nhất theo từng cột"
      ],
      "metadata": {
        "colab": {
          "base_uri": "https://localhost:8080/"
        },
        "id": "3POAE7CWLEiG",
        "outputId": "ff702ef5-ea67-4650-f4b8-3c2929ff6ef4"
      },
      "execution_count": 4,
      "outputs": [
        {
          "output_type": "execute_result",
          "data": {
            "text/plain": [
              "array([7, 8, 9])"
            ]
          },
          "metadata": {},
          "execution_count": 4
        }
      ]
    },
    {
      "cell_type": "code",
      "source": [
        "np.amax(a,1)"
      ],
      "metadata": {
        "colab": {
          "base_uri": "https://localhost:8080/"
        },
        "id": "oztTlCboLLKE",
        "outputId": "c22bd086-d485-4579-c1f8-a456cd63c945"
      },
      "execution_count": 5,
      "outputs": [
        {
          "output_type": "execute_result",
          "data": {
            "text/plain": [
              "array([3, 6, 9])"
            ]
          },
          "metadata": {},
          "execution_count": 5
        }
      ]
    },
    {
      "cell_type": "code",
      "source": [
        "np.ptp(a, 0) #tính range theo cột (max-min)"
      ],
      "metadata": {
        "colab": {
          "base_uri": "https://localhost:8080/"
        },
        "id": "e1uKxORILcpS",
        "outputId": "61d5cadf-72c1-443c-c59c-5d79299a2a23"
      },
      "execution_count": 6,
      "outputs": [
        {
          "output_type": "execute_result",
          "data": {
            "text/plain": [
              "array([6, 6, 6])"
            ]
          },
          "metadata": {},
          "execution_count": 6
        }
      ]
    },
    {
      "cell_type": "markdown",
      "source": [
        "**Nguyên văn chú thích được trích từ numpy.org**\n",
        "\n",
        "numpy.ptp(a, axis=None, out=None, keepdims=<no value>)\n",
        "Range of values (maximum - minimum) along an axis.\n",
        "\n",
        "The name of the function comes from the acronym for ‘peak to peak’."
      ],
      "metadata": {
        "id": "i-nfBoUwTCbJ"
      }
    },
    {
      "cell_type": "code",
      "source": [
        "np.ptp(a,1) #tính range theo cột (max-min)"
      ],
      "metadata": {
        "colab": {
          "base_uri": "https://localhost:8080/"
        },
        "id": "T7il48B0L5zV",
        "outputId": "c3fa3fad-639d-4d76-e5a3-e6d734df80ce"
      },
      "execution_count": 7,
      "outputs": [
        {
          "output_type": "execute_result",
          "data": {
            "text/plain": [
              "array([2, 2, 2])"
            ]
          },
          "metadata": {},
          "execution_count": 7
        }
      ]
    },
    {
      "cell_type": "code",
      "source": [
        "np.percentile(a,50,0) "
      ],
      "metadata": {
        "colab": {
          "base_uri": "https://localhost:8080/"
        },
        "id": "ot-h57L9MDO8",
        "outputId": "749539d6-2502-4a07-d5ea-fde4bcb244ce"
      },
      "execution_count": 8,
      "outputs": [
        {
          "output_type": "execute_result",
          "data": {
            "text/plain": [
              "array([4., 5., 6.])"
            ]
          },
          "metadata": {},
          "execution_count": 8
        }
      ]
    },
    {
      "cell_type": "markdown",
      "source": [
        "***Nguyên văn chú thích được trích từ numpy.org***\n",
        "\n",
        "numpy.percentile(a, q, axis=None, out=None, overwrite_input=False, method='linear', keepdims=False, *, interpolation=None)\n",
        "\n",
        "Compute the q-th percentile of the data along the specified axis.\n",
        "\n",
        "Returns the q-th percentile(s) of the array elements."
      ],
      "metadata": {
        "id": "XX3o7tf0SveM"
      }
    },
    {
      "cell_type": "code",
      "source": [
        "np.percentile(a,75,0)"
      ],
      "metadata": {
        "colab": {
          "base_uri": "https://localhost:8080/"
        },
        "id": "cHN3tDscMaBu",
        "outputId": "fb4ca28f-c56f-4c93-dd8d-82083619678c"
      },
      "execution_count": 9,
      "outputs": [
        {
          "output_type": "execute_result",
          "data": {
            "text/plain": [
              "array([5.5, 6.5, 7.5])"
            ]
          },
          "metadata": {},
          "execution_count": 9
        }
      ]
    },
    {
      "cell_type": "code",
      "source": [
        "np.mean(a)"
      ],
      "metadata": {
        "colab": {
          "base_uri": "https://localhost:8080/"
        },
        "id": "1RiwWUXFTdEX",
        "outputId": "6bcd4d57-95c2-431a-ca52-138cc75492e5"
      },
      "execution_count": 10,
      "outputs": [
        {
          "output_type": "execute_result",
          "data": {
            "text/plain": [
              "5.0"
            ]
          },
          "metadata": {},
          "execution_count": 10
        }
      ]
    },
    {
      "cell_type": "code",
      "source": [
        "np.mean(a,0) # tính mean riêng theo từng cột"
      ],
      "metadata": {
        "colab": {
          "base_uri": "https://localhost:8080/"
        },
        "id": "gQq6HDuHMh3s",
        "outputId": "e59b872f-0e0c-4787-eb4d-c5ec1364fbdf"
      },
      "execution_count": 11,
      "outputs": [
        {
          "output_type": "execute_result",
          "data": {
            "text/plain": [
              "array([4., 5., 6.])"
            ]
          },
          "metadata": {},
          "execution_count": 11
        }
      ]
    },
    {
      "cell_type": "code",
      "source": [
        "np.mean(a,1)"
      ],
      "metadata": {
        "colab": {
          "base_uri": "https://localhost:8080/"
        },
        "id": "QKDlL1eqRPlF",
        "outputId": "88e9f1f0-7c35-4119-ef27-26dbd9a12540"
      },
      "execution_count": 12,
      "outputs": [
        {
          "output_type": "execute_result",
          "data": {
            "text/plain": [
              "array([2., 5., 8.])"
            ]
          },
          "metadata": {},
          "execution_count": 12
        }
      ]
    },
    {
      "cell_type": "code",
      "source": [
        "np.median(a)"
      ],
      "metadata": {
        "colab": {
          "base_uri": "https://localhost:8080/"
        },
        "id": "72qgEHFRToAP",
        "outputId": "cafe1600-5492-45b9-eae4-b62a8aafa3ee"
      },
      "execution_count": 13,
      "outputs": [
        {
          "output_type": "execute_result",
          "data": {
            "text/plain": [
              "5.0"
            ]
          },
          "metadata": {},
          "execution_count": 13
        }
      ]
    },
    {
      "cell_type": "code",
      "source": [
        "np.median(a,0) # tính median riêng theo từng cột"
      ],
      "metadata": {
        "colab": {
          "base_uri": "https://localhost:8080/"
        },
        "id": "Age_mN9RRSeF",
        "outputId": "63791b5f-b492-4101-f49e-ab286d70cecf"
      },
      "execution_count": 14,
      "outputs": [
        {
          "output_type": "execute_result",
          "data": {
            "text/plain": [
              "array([4., 5., 6.])"
            ]
          },
          "metadata": {},
          "execution_count": 14
        }
      ]
    },
    {
      "cell_type": "code",
      "source": [
        "np.median(a,1)"
      ],
      "metadata": {
        "colab": {
          "base_uri": "https://localhost:8080/"
        },
        "id": "LCGoq3A9RUJh",
        "outputId": "2e34d758-9438-4c51-b083-f1bc84abdf02"
      },
      "execution_count": 15,
      "outputs": [
        {
          "output_type": "execute_result",
          "data": {
            "text/plain": [
              "array([2., 5., 8.])"
            ]
          },
          "metadata": {},
          "execution_count": 15
        }
      ]
    },
    {
      "cell_type": "code",
      "source": [
        "np.average(a,0)"
      ],
      "metadata": {
        "colab": {
          "base_uri": "https://localhost:8080/"
        },
        "id": "RWJDTGFtRWG6",
        "outputId": "95a01fac-d0bd-46e2-dc1f-a9db1b430b97"
      },
      "execution_count": 16,
      "outputs": [
        {
          "output_type": "execute_result",
          "data": {
            "text/plain": [
              "array([4., 5., 6.])"
            ]
          },
          "metadata": {},
          "execution_count": 16
        }
      ]
    },
    {
      "cell_type": "code",
      "source": [
        "np.average(a,1)"
      ],
      "metadata": {
        "colab": {
          "base_uri": "https://localhost:8080/"
        },
        "id": "OwPJ4E3qRgeh",
        "outputId": "e9d6d3f2-8b6b-4215-828e-658e839c1337"
      },
      "execution_count": 17,
      "outputs": [
        {
          "output_type": "execute_result",
          "data": {
            "text/plain": [
              "array([2., 5., 8.])"
            ]
          },
          "metadata": {},
          "execution_count": 17
        }
      ]
    },
    {
      "cell_type": "code",
      "source": [
        "np.std([1,2,3,4])"
      ],
      "metadata": {
        "colab": {
          "base_uri": "https://localhost:8080/"
        },
        "id": "3tpzdo_-RiLt",
        "outputId": "24d98f32-49d9-4b8e-d243-556d9a55521a"
      },
      "execution_count": 18,
      "outputs": [
        {
          "output_type": "execute_result",
          "data": {
            "text/plain": [
              "1.118033988749895"
            ]
          },
          "metadata": {},
          "execution_count": 18
        }
      ]
    },
    {
      "cell_type": "code",
      "source": [
        "np.var([1,2,3,4])"
      ],
      "metadata": {
        "colab": {
          "base_uri": "https://localhost:8080/"
        },
        "id": "oymu03Q3Rr-l",
        "outputId": "fbfe1ebc-1ff9-419b-ceb3-1f8f20a230f5"
      },
      "execution_count": 19,
      "outputs": [
        {
          "output_type": "execute_result",
          "data": {
            "text/plain": [
              "1.25"
            ]
          },
          "metadata": {},
          "execution_count": 19
        }
      ]
    },
    {
      "cell_type": "markdown",
      "source": [
        "***Tạo bộ dữ liệu random***"
      ],
      "metadata": {
        "id": "FcBeEJh5UMVz"
      }
    },
    {
      "cell_type": "code",
      "source": [
        "import numpy as np\n",
        "\n",
        "x = np.random.randint(0,100)\n",
        "\n",
        "x"
      ],
      "metadata": {
        "id": "7xCdy8hsRt23",
        "colab": {
          "base_uri": "https://localhost:8080/"
        },
        "outputId": "1c954f12-c248-4b95-cdbf-0f935b8714f8"
      },
      "execution_count": 20,
      "outputs": [
        {
          "output_type": "execute_result",
          "data": {
            "text/plain": [
              "53"
            ]
          },
          "metadata": {},
          "execution_count": 20
        }
      ]
    },
    {
      "cell_type": "code",
      "source": [
        "x = np.random.randint(0,100,size =(5))\n",
        "x"
      ],
      "metadata": {
        "colab": {
          "base_uri": "https://localhost:8080/"
        },
        "id": "X51q0IDEUap4",
        "outputId": "a892595b-5b1a-4e46-e825-ea135f2be488"
      },
      "execution_count": 21,
      "outputs": [
        {
          "output_type": "execute_result",
          "data": {
            "text/plain": [
              "array([52, 24, 43, 18, 48])"
            ]
          },
          "metadata": {},
          "execution_count": 21
        }
      ]
    },
    {
      "cell_type": "code",
      "source": [
        "x = np.random.randint(0,100,size = (3,5))\n",
        "x"
      ],
      "metadata": {
        "colab": {
          "base_uri": "https://localhost:8080/"
        },
        "id": "L2ZJNjiWUhjY",
        "outputId": "a2a70ea6-b15e-4ea4-95ae-34d94bf16d55"
      },
      "execution_count": 22,
      "outputs": [
        {
          "output_type": "execute_result",
          "data": {
            "text/plain": [
              "array([[38, 46, 73, 21, 54],\n",
              "       [61,  4, 35, 76, 29],\n",
              "       [18, 88, 92, 74, 92]])"
            ]
          },
          "metadata": {},
          "execution_count": 22
        }
      ]
    },
    {
      "cell_type": "code",
      "source": [
        "x = np.random.rand(3,5)\n",
        "x"
      ],
      "metadata": {
        "colab": {
          "base_uri": "https://localhost:8080/"
        },
        "id": "bDjLd5hiUsrj",
        "outputId": "8c02ac56-0d31-40b4-8fd4-5a97e773c231"
      },
      "execution_count": 23,
      "outputs": [
        {
          "output_type": "execute_result",
          "data": {
            "text/plain": [
              "array([[0.48020344, 0.10656548, 0.75142229, 0.24130166, 0.39716144],\n",
              "       [0.31044738, 0.83814376, 0.34341328, 0.94315443, 0.69294651],\n",
              "       [0.33249447, 0.84180766, 0.48940242, 0.83252004, 0.5996168 ]])"
            ]
          },
          "metadata": {},
          "execution_count": 23
        }
      ]
    },
    {
      "cell_type": "code",
      "source": [
        "x = np.random.rand(3,5,4)\n",
        "x"
      ],
      "metadata": {
        "colab": {
          "base_uri": "https://localhost:8080/"
        },
        "id": "kdoWhWcEU0MM",
        "outputId": "b5850b0a-13c7-4058-9693-3321ecac1b36"
      },
      "execution_count": 24,
      "outputs": [
        {
          "output_type": "execute_result",
          "data": {
            "text/plain": [
              "array([[[9.56892639e-02, 8.62971814e-01, 1.62447006e-01, 6.01234773e-01],\n",
              "        [7.00016896e-01, 3.21226828e-01, 9.01459013e-01, 6.59697714e-01],\n",
              "        [3.45951637e-01, 8.67605284e-01, 7.65519912e-01, 7.95824298e-04],\n",
              "        [7.59455878e-01, 5.94103670e-01, 5.74649514e-01, 8.04521759e-01],\n",
              "        [8.70985676e-02, 1.69574068e-01, 2.32665125e-01, 6.75827993e-01]],\n",
              "\n",
              "       [[5.31324337e-01, 5.16103505e-01, 6.94962154e-02, 6.99399468e-01],\n",
              "        [9.62119120e-01, 5.44335607e-02, 1.32215289e-01, 5.70595989e-01],\n",
              "        [3.62745166e-01, 6.35949232e-01, 9.87571645e-01, 8.97797115e-01],\n",
              "        [6.00532608e-01, 1.63580356e-01, 2.26843528e-01, 1.46286352e-01],\n",
              "        [6.05902759e-02, 2.79035124e-01, 3.91951239e-01, 8.49983219e-01]],\n",
              "\n",
              "       [[4.99700369e-01, 8.05696439e-01, 1.56120313e-01, 9.52566990e-01],\n",
              "        [3.19513187e-01, 5.62635954e-01, 9.07617121e-01, 2.29797697e-01],\n",
              "        [5.05386991e-01, 5.84929237e-01, 4.67663598e-01, 4.65218560e-01],\n",
              "        [8.30110357e-01, 8.57316719e-02, 3.48705316e-01, 5.38278389e-01],\n",
              "        [7.01837240e-01, 4.43776313e-01, 4.83034393e-01, 6.64299014e-01]]])"
            ]
          },
          "metadata": {},
          "execution_count": 24
        }
      ]
    },
    {
      "cell_type": "code",
      "source": [
        "x = np.random.choice([3,5,7,9], size = (3,5))\n",
        "x"
      ],
      "metadata": {
        "colab": {
          "base_uri": "https://localhost:8080/"
        },
        "id": "RCRrIP-oVGYe",
        "outputId": "04000a16-cbcb-4603-b654-de0cd02f7207"
      },
      "execution_count": 25,
      "outputs": [
        {
          "output_type": "execute_result",
          "data": {
            "text/plain": [
              "array([[5, 9, 9, 5, 3],\n",
              "       [5, 9, 3, 3, 7],\n",
              "       [3, 3, 9, 3, 7]])"
            ]
          },
          "metadata": {},
          "execution_count": 25
        }
      ]
    },
    {
      "cell_type": "code",
      "source": [
        "from numpy import random"
      ],
      "metadata": {
        "id": "bweAGBnSW77y"
      },
      "execution_count": 26,
      "outputs": []
    },
    {
      "cell_type": "code",
      "source": [
        "a = np.array([1,2,3,4,5])\n",
        "\n",
        "random.shuffle(a)"
      ],
      "metadata": {
        "id": "C-VzodQxXKMd"
      },
      "execution_count": 27,
      "outputs": []
    },
    {
      "cell_type": "code",
      "source": [
        "a"
      ],
      "metadata": {
        "colab": {
          "base_uri": "https://localhost:8080/"
        },
        "id": "-n1xsIXVXQhf",
        "outputId": "74e53e52-e572-4f68-d7e3-52607c54f38f"
      },
      "execution_count": 28,
      "outputs": [
        {
          "output_type": "execute_result",
          "data": {
            "text/plain": [
              "array([3, 2, 1, 4, 5])"
            ]
          },
          "metadata": {},
          "execution_count": 28
        }
      ]
    },
    {
      "cell_type": "code",
      "source": [
        "random.permutation(a)\n",
        "\n",
        "a"
      ],
      "metadata": {
        "colab": {
          "base_uri": "https://localhost:8080/"
        },
        "id": "IVB-uJYrXRty",
        "outputId": "2f8edcfa-db27-4189-9411-e3320d102b53"
      },
      "execution_count": 29,
      "outputs": [
        {
          "output_type": "execute_result",
          "data": {
            "text/plain": [
              "array([3, 2, 1, 4, 5])"
            ]
          },
          "metadata": {},
          "execution_count": 29
        }
      ]
    },
    {
      "cell_type": "markdown",
      "source": [
        "# ***Ma trận trong NumPy***\n",
        "\n",
        "1.   Sort\n",
        "2.   Search\n",
        "3.   Split\n",
        "4.   Join\n"
      ],
      "metadata": {
        "id": "XJ5PQkWvA5nz"
      }
    },
    {
      "cell_type": "markdown",
      "source": [
        "***Sort***\n",
        "\n",
        "1. Xếp lại dữ liệu số theo thứ tự từ nhỏ đến lớn\n",
        "2. Xếp lại dữ liệu char theo alpha a,b"
      ],
      "metadata": {
        "id": "mrbXlXunZ7kM"
      }
    },
    {
      "cell_type": "code",
      "source": [
        "import numpy as np\n",
        "\n",
        "a = np.array([3,2,1,8])\n",
        "\n",
        "np.sort(a)"
      ],
      "metadata": {
        "colab": {
          "base_uri": "https://localhost:8080/"
        },
        "id": "sobIHg_FXcPI",
        "outputId": "7f45a692-1c17-4f56-a5a8-460893cfff2e"
      },
      "execution_count": 30,
      "outputs": [
        {
          "output_type": "execute_result",
          "data": {
            "text/plain": [
              "array([1, 2, 3, 8])"
            ]
          },
          "metadata": {},
          "execution_count": 30
        }
      ]
    },
    {
      "cell_type": "code",
      "source": [
        "a = np.array(['banana','cherry','apple'])\n",
        "np.sort(a)"
      ],
      "metadata": {
        "colab": {
          "base_uri": "https://localhost:8080/"
        },
        "id": "uBvLelAYZJAs",
        "outputId": "8bcd5fa3-fac4-4453-9ec1-4653af6230ee"
      },
      "execution_count": 31,
      "outputs": [
        {
          "output_type": "execute_result",
          "data": {
            "text/plain": [
              "array(['apple', 'banana', 'cherry'], dtype='<U6')"
            ]
          },
          "metadata": {},
          "execution_count": 31
        }
      ]
    },
    {
      "cell_type": "code",
      "source": [
        "a = np.array([True, False, True])\n",
        "\n",
        "np.sort(a)"
      ],
      "metadata": {
        "colab": {
          "base_uri": "https://localhost:8080/"
        },
        "id": "iDzcwWVQZaxs",
        "outputId": "61a29435-c1e7-4893-dd93-db138b4f64e4"
      },
      "execution_count": 32,
      "outputs": [
        {
          "output_type": "execute_result",
          "data": {
            "text/plain": [
              "array([False,  True,  True])"
            ]
          },
          "metadata": {},
          "execution_count": 32
        }
      ]
    },
    {
      "cell_type": "code",
      "source": [
        "a = np.array([[3,2,1,8],[6,3,5,4]])\n",
        "\n",
        "np.sort(a)"
      ],
      "metadata": {
        "colab": {
          "base_uri": "https://localhost:8080/"
        },
        "id": "3PYFZaWeZuFe",
        "outputId": "c4518a9e-081b-4da5-8c14-659abb70a286"
      },
      "execution_count": 33,
      "outputs": [
        {
          "output_type": "execute_result",
          "data": {
            "text/plain": [
              "array([[1, 2, 3, 8],\n",
              "       [3, 4, 5, 6]])"
            ]
          },
          "metadata": {},
          "execution_count": 33
        }
      ]
    },
    {
      "cell_type": "markdown",
      "source": [
        "***Search***\n",
        "\n",
        "Tìm kiếm vị trí thỏa theo yêu cầu cho trước "
      ],
      "metadata": {
        "id": "-KZ46eZ3aZ-i"
      }
    },
    {
      "cell_type": "code",
      "source": [
        "x = np.array([4,2,4,5,5,4,7]) #tìm những vị trí mà gtri tại đó bằng 4\n",
        "\n",
        "a = np.where(x == 4)\n",
        "\n",
        "a"
      ],
      "metadata": {
        "colab": {
          "base_uri": "https://localhost:8080/"
        },
        "id": "ZRLHipugZ292",
        "outputId": "8c79da31-31ea-44d6-c3d3-0a89588be977"
      },
      "execution_count": 34,
      "outputs": [
        {
          "output_type": "execute_result",
          "data": {
            "text/plain": [
              "(array([0, 2, 5]),)"
            ]
          },
          "metadata": {},
          "execution_count": 34
        }
      ]
    },
    {
      "cell_type": "code",
      "source": [
        "a = np.where(x %  2 == 1) #tìm những vị trí mà giá trị tại đó chia 2 dư 1\n",
        "a"
      ],
      "metadata": {
        "colab": {
          "base_uri": "https://localhost:8080/"
        },
        "id": "Fd5F-j3PauJM",
        "outputId": "0d2b7610-fdc1-4d21-e3d6-82330b6eab14"
      },
      "execution_count": 35,
      "outputs": [
        {
          "output_type": "execute_result",
          "data": {
            "text/plain": [
              "(array([3, 4, 6]),)"
            ]
          },
          "metadata": {},
          "execution_count": 35
        }
      ]
    },
    {
      "cell_type": "code",
      "source": [
        "x = np.array([8,7,6,9,19]) #\n",
        "\n",
        "a = np.searchsorted(x,7,side = 'right')\n",
        "\n",
        "a"
      ],
      "metadata": {
        "colab": {
          "base_uri": "https://localhost:8080/"
        },
        "id": "wbCfQsQpbLyp",
        "outputId": "9bf05ba5-8c1e-4cd3-857a-0f16e652a334"
      },
      "execution_count": 36,
      "outputs": [
        {
          "output_type": "execute_result",
          "data": {
            "text/plain": [
              "3"
            ]
          },
          "metadata": {},
          "execution_count": 36
        }
      ]
    },
    {
      "cell_type": "markdown",
      "source": [
        "***Nguyên văn chú thích được trích từ numpy.org***\n",
        "\n",
        "numpy.searchsorted(a, v, side='left', sorter=None)\n",
        "\n",
        "Find indices where elements should be inserted to maintain order.\n",
        "\n",
        "Find the indices into a sorted array a such that, if the corresponding elements in v were inserted before the indices, the order of a would be preserved.\n",
        "\n",
        "\n",
        "\n",
        "\n",
        "1.  left  a[i-1] < v <= a[i]\n",
        "2.  right a[i-1] <= v < a[i]\n",
        "\n"
      ],
      "metadata": {
        "id": "KBlRCA4w8UGH"
      }
    },
    {
      "cell_type": "code",
      "source": [
        "x = np.array([6,7,19,9,8]) # \n",
        "\n",
        "a = np.searchsorted(x,9,side = 'left')\n",
        "\n",
        "a"
      ],
      "metadata": {
        "colab": {
          "base_uri": "https://localhost:8080/"
        },
        "id": "BNsxTGqz6kgV",
        "outputId": "3ed79664-b85f-43fc-dad0-2c619a2c3c5a"
      },
      "execution_count": 37,
      "outputs": [
        {
          "output_type": "execute_result",
          "data": {
            "text/plain": [
              "2"
            ]
          },
          "metadata": {},
          "execution_count": 37
        }
      ]
    },
    {
      "cell_type": "code",
      "source": [
        "np.searchsorted([1,2,3,4,5], [-10, 10, 2, 3])"
      ],
      "metadata": {
        "colab": {
          "base_uri": "https://localhost:8080/"
        },
        "id": "jgytNQVD65CP",
        "outputId": "8061674b-6a20-450c-9aff-56c185f51316"
      },
      "execution_count": 38,
      "outputs": [
        {
          "output_type": "execute_result",
          "data": {
            "text/plain": [
              "array([0, 5, 1, 2])"
            ]
          },
          "metadata": {},
          "execution_count": 38
        }
      ]
    },
    {
      "cell_type": "markdown",
      "source": [
        "***Split***"
      ],
      "metadata": {
        "id": "YNyM4O0cDNay"
      }
    },
    {
      "cell_type": "code",
      "source": [
        "import numpy as np\n",
        "\n",
        "a = np.array([1,2,3,4,5,6,7])\n",
        "\n",
        "x = np.array_split(a,4)\n",
        "\n",
        "x"
      ],
      "metadata": {
        "id": "XjAMJx2M8HAE",
        "colab": {
          "base_uri": "https://localhost:8080/"
        },
        "outputId": "be19008f-8d7b-40bf-ef31-c345734bbed6"
      },
      "execution_count": 39,
      "outputs": [
        {
          "output_type": "execute_result",
          "data": {
            "text/plain": [
              "[array([1, 2]), array([3, 4]), array([5, 6]), array([7])]"
            ]
          },
          "metadata": {},
          "execution_count": 39
        }
      ]
    },
    {
      "cell_type": "code",
      "source": [
        "print(x[0])\n",
        "print(x[1])\n",
        "print(x[2])"
      ],
      "metadata": {
        "colab": {
          "base_uri": "https://localhost:8080/"
        },
        "id": "3Asi8ohy3v3v",
        "outputId": "5872e517-e48d-4f12-fb07-69f1d652add7"
      },
      "execution_count": 40,
      "outputs": [
        {
          "output_type": "stream",
          "name": "stdout",
          "text": [
            "[1 2]\n",
            "[3 4]\n",
            "[5 6]\n"
          ]
        }
      ]
    },
    {
      "cell_type": "code",
      "source": [
        "a = np.array([[1,2,3,4,5,6,7]])\n",
        "\n",
        "x = np.array_split(a,3,axis = 1)\n",
        "x"
      ],
      "metadata": {
        "colab": {
          "base_uri": "https://localhost:8080/"
        },
        "id": "TyMJAgQb3-fw",
        "outputId": "ca8e8078-765a-4539-9476-e8f994bac59e"
      },
      "execution_count": 41,
      "outputs": [
        {
          "output_type": "execute_result",
          "data": {
            "text/plain": [
              "[array([[1, 2, 3]]), array([[4, 5]]), array([[6, 7]])]"
            ]
          },
          "metadata": {},
          "execution_count": 41
        }
      ]
    },
    {
      "cell_type": "code",
      "source": [
        "a = np.array([[1,2,3],[4,5,6]])\n",
        "\n",
        "x = np.hsplit(a,3)\n",
        "x"
      ],
      "metadata": {
        "colab": {
          "base_uri": "https://localhost:8080/"
        },
        "id": "kHSQhxSD4UN4",
        "outputId": "92367f52-868f-4d8c-a8f5-db735c44c1e2"
      },
      "execution_count": 42,
      "outputs": [
        {
          "output_type": "execute_result",
          "data": {
            "text/plain": [
              "[array([[1],\n",
              "        [4]]), array([[2],\n",
              "        [5]]), array([[3],\n",
              "        [6]])]"
            ]
          },
          "metadata": {},
          "execution_count": 42
        }
      ]
    },
    {
      "cell_type": "code",
      "source": [
        "x = np.vsplit(a,2)\n",
        "x"
      ],
      "metadata": {
        "colab": {
          "base_uri": "https://localhost:8080/"
        },
        "id": "y9oHWvHyB_M7",
        "outputId": "92bfb4e1-a111-4b2d-abeb-fbc92eb34843"
      },
      "execution_count": 43,
      "outputs": [
        {
          "output_type": "execute_result",
          "data": {
            "text/plain": [
              "[array([[1, 2, 3]]), array([[4, 5, 6]])]"
            ]
          },
          "metadata": {},
          "execution_count": 43
        }
      ]
    },
    {
      "cell_type": "markdown",
      "source": [
        "***Join***"
      ],
      "metadata": {
        "id": "Ui7AKaxsDSOt"
      }
    },
    {
      "cell_type": "code",
      "source": [
        "import numpy as np\n",
        "\n",
        "x = np.array([1,2,3])\n",
        "y = np.array([4,5,6])\n",
        "arr = np.concatenate((x,y))\n",
        "arr\n"
      ],
      "metadata": {
        "colab": {
          "base_uri": "https://localhost:8080/"
        },
        "id": "JWvVDv8tCMdK",
        "outputId": "1bba5c49-e2fe-4713-87c3-89aab635ec58"
      },
      "execution_count": 49,
      "outputs": [
        {
          "output_type": "execute_result",
          "data": {
            "text/plain": [
              "array([1, 2, 3, 4, 5, 6])"
            ]
          },
          "metadata": {},
          "execution_count": 49
        }
      ]
    },
    {
      "cell_type": "code",
      "source": [
        "x = np.array([[1,2,3]])\n",
        "y = np.array([[4,5,6]])\n",
        "arr = np.concatenate((x,y),axis = 0)\n",
        "arr\n"
      ],
      "metadata": {
        "colab": {
          "base_uri": "https://localhost:8080/"
        },
        "id": "5FM6Qw5NIJjt",
        "outputId": "3edd3870-87f1-4921-bf90-f68a0e9048a8"
      },
      "execution_count": 53,
      "outputs": [
        {
          "output_type": "execute_result",
          "data": {
            "text/plain": [
              "array([[1, 2, 3],\n",
              "       [4, 5, 6]])"
            ]
          },
          "metadata": {},
          "execution_count": 53
        }
      ]
    },
    {
      "cell_type": "code",
      "source": [
        "x = np.array([[1,2],[3,4]])\n",
        "y = np.array([[5,6],[7,8]])\n",
        "\n",
        "arr = np.concatenate((x,y), axis = 1)\n",
        "arr"
      ],
      "metadata": {
        "colab": {
          "base_uri": "https://localhost:8080/"
        },
        "id": "C_zmIh-pDkcn",
        "outputId": "a164b48d-966b-444f-b8b3-f1f5a8e7c90a"
      },
      "execution_count": 45,
      "outputs": [
        {
          "output_type": "execute_result",
          "data": {
            "text/plain": [
              "array([[1, 2, 5, 6],\n",
              "       [3, 4, 7, 8]])"
            ]
          },
          "metadata": {},
          "execution_count": 45
        }
      ]
    },
    {
      "cell_type": "code",
      "source": [
        "arr = np.concatenate((x,y), axis = 0)\n",
        "arr"
      ],
      "metadata": {
        "id": "j4Mao0S_EW3P",
        "colab": {
          "base_uri": "https://localhost:8080/"
        },
        "outputId": "097be6bf-fe6c-45e2-c837-46efdcda5945"
      },
      "execution_count": 46,
      "outputs": [
        {
          "output_type": "execute_result",
          "data": {
            "text/plain": [
              "array([[1, 2],\n",
              "       [3, 4],\n",
              "       [5, 6],\n",
              "       [7, 8]])"
            ]
          },
          "metadata": {},
          "execution_count": 46
        }
      ]
    },
    {
      "cell_type": "code",
      "source": [
        "x = np.array([1,2,3])\n",
        "y = np.array([4,5,6])\n",
        "\n",
        "a = np.stack((x,y),axis = 1)\n",
        "a\n"
      ],
      "metadata": {
        "colab": {
          "base_uri": "https://localhost:8080/"
        },
        "id": "tDoxY0AZHEI6",
        "outputId": "69015c90-ac56-4fd1-f280-f211b6862c1b"
      },
      "execution_count": 54,
      "outputs": [
        {
          "output_type": "execute_result",
          "data": {
            "text/plain": [
              "array([[1, 4],\n",
              "       [2, 5],\n",
              "       [3, 6]])"
            ]
          },
          "metadata": {},
          "execution_count": 54
        }
      ]
    },
    {
      "cell_type": "code",
      "source": [
        "x = np.array([1,2,3])\n",
        "y = np.array([4,5,6])\n",
        "\n",
        "a = np.dstack((x,y))\n",
        "a"
      ],
      "metadata": {
        "colab": {
          "base_uri": "https://localhost:8080/"
        },
        "id": "6UA3-WZOIBia",
        "outputId": "e799dad9-8c69-4b2b-ffea-c132569bb3d1"
      },
      "execution_count": 58,
      "outputs": [
        {
          "output_type": "execute_result",
          "data": {
            "text/plain": [
              "array([[[1, 4],\n",
              "        [2, 5],\n",
              "        [3, 6]]])"
            ]
          },
          "metadata": {},
          "execution_count": 58
        }
      ]
    },
    {
      "cell_type": "code",
      "source": [
        "x = np.array([1,2,3])\n",
        "y = np.array([4,5,6])\n",
        "\n",
        "a = np.vstack((x,y))\n",
        "a"
      ],
      "metadata": {
        "colab": {
          "base_uri": "https://localhost:8080/"
        },
        "id": "6InDmQEKIotm",
        "outputId": "c387f121-132e-40d7-d75e-2a4b68c17a3c"
      },
      "execution_count": 59,
      "outputs": [
        {
          "output_type": "execute_result",
          "data": {
            "text/plain": [
              "array([[1, 2, 3],\n",
              "       [4, 5, 6]])"
            ]
          },
          "metadata": {},
          "execution_count": 59
        }
      ]
    },
    {
      "cell_type": "code",
      "source": [
        ""
      ],
      "metadata": {
        "id": "yXlT9vVnI8L_"
      },
      "execution_count": null,
      "outputs": []
    }
  ]
}